{
 "cells": [
  {
   "cell_type": "code",
   "execution_count": 44,
   "id": "23f99a0c",
   "metadata": {},
   "outputs": [],
   "source": [
    "import pandas as pd\n",
    "import os\n",
    "from pathlib import Path\n",
    "from tqdm import tqdm\n"
   ]
  },
  {
   "cell_type": "code",
   "execution_count": 74,
   "id": "9553ca4e",
   "metadata": {},
   "outputs": [],
   "source": [
    "main_dir = Path(r\"D:\\P05_3DRIG_YE-LP\\e01_mouse_hunting\\lighting_pose_project_2025-06-08\\labeled-data\")"
   ]
  },
  {
   "cell_type": "code",
   "execution_count": 75,
   "id": "a54980b3",
   "metadata": {},
   "outputs": [],
   "source": [
    "dirs = [dir for dir in main_dir.iterdir() if dir.is_dir() and dir.name.endswith(\"permutation\")]"
   ]
  },
  {
   "cell_type": "code",
   "execution_count": 76,
   "id": "56a24845",
   "metadata": {},
   "outputs": [],
   "source": [
    "def fix_csv(csv_path:Path, vid_name:Path)-> pd.DataFrame:\n",
    "\n",
    "    csv_broken = pd.read_csv(csv_path, header=[0, 1, 2])\n",
    "\n",
    "\n",
    "\n",
    "    csv_broken.drop(columns=csv_broken.columns[0], inplace=True)\n",
    "    # change values second col  with vid_name\n",
    "    csv_broken.iloc[:, 1] = vid_name\n",
    "\n",
    "\n",
    "    new_cols = list(csv_broken.columns)\n",
    "\n",
    "    # Replace the ones at positions 1 and 2 with empty string tuples\n",
    "    for i in range(1, 3):\n",
    "        new_cols[i] = tuple(\"\" for _ in new_cols[i])  # Replace each level with empty string\n",
    "\n",
    "    # Set back the updated columns\n",
    "    csv_broken.columns = pd.MultiIndex.from_tuples(new_cols)\n",
    "    return csv_broken\n",
    "\n"
   ]
  },
  {
   "cell_type": "code",
   "execution_count": 77,
   "id": "55274e8d",
   "metadata": {},
   "outputs": [],
   "source": [
    "vid_dir = main_dir.parent / \"videos\"\n",
    "vid_names = [vid.name.removesuffix('.mp4') for vid in vid_dir.iterdir() if vid.is_file() and vid.name.endswith(\"permutation.mp4\")]"
   ]
  },
  {
   "cell_type": "code",
   "execution_count": 78,
   "id": "9fc519f0",
   "metadata": {},
   "outputs": [
    {
     "name": "stderr",
     "output_type": "stream",
     "text": [
      "Processing directories: 15it [00:00, 39.21it/s]\n"
     ]
    }
   ],
   "source": [
    "for dir, vid in tqdm(zip(dirs, vid_names), desc=\"Processing directories\"):\n",
    "    csv_file_path = dir / \"CollectedData.csv\"\n",
    "    if csv_file_path.exists():\n",
    "        try:\n",
    "            fixed_csv = fix_csv(csv_file_path, vid)\n",
    "            fixed_csv.to_csv(csv_file_path, index=False)\n",
    "            fixed_csv.to_hdf(csv_file_path.with_suffix('.h5'), mode='w', key='data', format='table')\n",
    "        except Exception as e:\n",
    "            print(f\"Error processing {csv_file_path}: {e}\")\n",
    "    else:\n",
    "        print(f\"File {csv_file_path} does not exist, skipping.\")\n",
    "    "
   ]
  },
  {
   "cell_type": "code",
   "execution_count": null,
   "id": "856ba54b",
   "metadata": {},
   "outputs": [],
   "source": []
  }
 ],
 "metadata": {
  "kernelspec": {
   "display_name": "lab-env",
   "language": "python",
   "name": "python3"
  },
  "language_info": {
   "codemirror_mode": {
    "name": "ipython",
    "version": 3
   },
   "file_extension": ".py",
   "mimetype": "text/x-python",
   "name": "python",
   "nbconvert_exporter": "python",
   "pygments_lexer": "ipython3",
   "version": "3.10.13"
  }
 },
 "nbformat": 4,
 "nbformat_minor": 5
}
