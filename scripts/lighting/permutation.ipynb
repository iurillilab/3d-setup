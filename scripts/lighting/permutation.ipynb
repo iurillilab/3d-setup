{
 "cells": [
  {
   "cell_type": "code",
   "execution_count": 39,
   "id": "ba6f1b3f",
   "metadata": {},
   "outputs": [],
   "source": [
    "import pandas as pd \n",
    "import numpy as np\n",
    "from pathlib import Path\n",
    "import re\n",
    "import yaml \n",
    "from yaml import SafeLoader"
   ]
  },
  {
   "cell_type": "code",
   "execution_count": 40,
   "id": "e30e026f",
   "metadata": {},
   "outputs": [],
   "source": [
    "data_dir = Path('/Users/thomasbush/Documents/Vault/Iurilli_lab/3d_tracking/data')\n",
    "\n",
    "original_video_dir = data_dir / 'multicam_video_2024-07-22T10_19_22_cropped_20250325101012'\n",
    "tiled_videos_dir = original_video_dir / \"tiled\"\n",
    "permutation_dirs = {\n",
    "    f\"{f.name}\": f for n, f in enumerate(original_video_dir.iterdir()) if \"permutation\" in f.name\n",
    "}\n",
    "\n",
    "lp_dir = data_dir / 'lp'\n",
    "lp_vid_dir = lp_dir / \"dlc10v/labeled-data\" / original_video_dir.name "
   ]
  },
  {
   "cell_type": "code",
   "execution_count": 41,
   "id": "79401b68",
   "metadata": {},
   "outputs": [],
   "source": [
    "csv_path = lp_vid_dir / \"CollectedData.csv\"\n",
    "data = pd.read_csv(csv_path, header=[0, 1, 2])\n",
    "with open(lp_dir / 'dlc10v/model_config_dlc10v.yaml') as stream:\n",
    "    yaml_data = list(yaml.load_all(stream, Loader=SafeLoader))\n",
    "keypoints = yaml_data[0]['data']['keypoints']\n",
    "config_p = {key: value / \"transform_config.yaml\" for key, value in permutation_dirs.items()}\n",
    "original_views = ['mirror_bottom', 'mirror_left', 'mirror_right', 'mirror_top']"
   ]
  },
  {
   "cell_type": "code",
   "execution_count": 42,
   "id": "f6f409d1",
   "metadata": {},
   "outputs": [],
   "source": [
    "# we want to permute the keypoints columns as names: \n",
    "\n",
    "def permute_view_values_by_keypoint(\n",
    "    df: pd.DataFrame,\n",
    "    original_views: list[str],\n",
    "    permutation: list[int]\n",
    ") -> pd.DataFrame:\n",
    "    assert len(original_views) == len(permutation), \"Permutation and view list must match in length\"\n",
    "\n",
    "    # Get all keypoints by stripping the view suffix\n",
    "    all_bodyparts = df.columns.get_level_values(1).unique()\n",
    "    keypoints = sorted(set(\n",
    "        bp.replace(f\"_{view}\", \"\")\n",
    "        for bp in all_bodyparts\n",
    "        for view in original_views\n",
    "        if bp.endswith(f\"_{view}\")\n",
    "    ))\n",
    "\n",
    "    # Create backup of values before overwriting\n",
    "    original_values = {}\n",
    "    for keypoint in keypoints:\n",
    "        for i, view in enumerate(original_views):\n",
    "            full_bp = f\"{keypoint}_{view}\"\n",
    "            for coord in [\"x\", \"y\", \"likelihood\"]:\n",
    "                col = df.columns[\n",
    "                    (df.columns.get_level_values(1) == full_bp) &\n",
    "                    (df.columns.get_level_values(2) == coord)\n",
    "                ][0]\n",
    "                original_values[(keypoint, view, coord)] = df[col].copy()\n",
    "\n",
    "    # Apply permutation: assign to view[i] the values from view[permutation[i]]\n",
    "    for i, target_view in enumerate(original_views):\n",
    "        source_view = original_views[permutation[i]]\n",
    "        for keypoint in keypoints:\n",
    "            for coord in [\"x\", \"y\", \"likelihood\"]:\n",
    "                col = df.columns[\n",
    "                    (df.columns.get_level_values(1) == f\"{keypoint}_{target_view}\") &\n",
    "                    (df.columns.get_level_values(2) == coord)\n",
    "                ][0]\n",
    "                df[col] = original_values[(keypoint, source_view, coord)]\n",
    "\n",
    "    return df"
   ]
  },
  {
   "cell_type": "code",
   "execution_count": 43,
   "id": "420ac6d0",
   "metadata": {},
   "outputs": [],
   "source": [
    "def preview_permutation_change(df_before: pd.DataFrame, df_after: pd.DataFrame, keypoint: str, view_from: str, view_to: str):\n",
    "    for coord in [\"x\", \"y\", \"likelihood\"]:\n",
    "        col_from = df_before.columns[\n",
    "            (df_before.columns.get_level_values(1) == f\"{keypoint}_{view_from}\") &\n",
    "            (df_before.columns.get_level_values(2) == coord)\n",
    "        ][0]\n",
    "        col_to = df_after.columns[\n",
    "            (df_after.columns.get_level_values(1) == f\"{keypoint}_{view_to}\") &\n",
    "            (df_after.columns.get_level_values(2) == coord)\n",
    "        ][0]\n",
    "\n",
    "        print(f\"\\n[{coord}] {keypoint}_{view_to} (should be copied from {view_from}):\")\n",
    "        print(\"Before:\", df_before[col_to].head(5).to_list())\n",
    "        print(\"After: \", df_after[col_to].head(5).to_list())\n",
    "        print(\"Source:\", df_before[col_from].head(5).to_list())\n"
   ]
  },
  {
   "cell_type": "code",
   "execution_count": 47,
   "id": "01cafb7e",
   "metadata": {},
   "outputs": [],
   "source": [
    "def rotate_central_view(df: pd.DataFrame, view_name: str, command: str, width: int, height: int) -> pd.DataFrame:\n",
    "    \"\"\"\n",
    "    Applies rotation transform to all x/y values of the specified view (e.g., 'mirror_central') in a MultiIndex DataFrame.\n",
    "\n",
    "    Parameters:\n",
    "    - df: pandas DataFrame with MultiIndex columns (scorer, bodypart, coord)\n",
    "    - view_name: str, view to apply transform to (e.g., 'mirror_central')\n",
    "    - command: str, rotation command (e.g., 'transpose=1', 'vflip,hflip', etc.)\n",
    "    - width, height: original frame dimensions\n",
    "    \"\"\"\n",
    "    for col in df.columns:\n",
    "        scorer, bodypart, coord = col\n",
    "        if view_name in bodypart and coord in ['x', 'y']:\n",
    "            x_col = df.columns[(df.columns.get_level_values(1) == bodypart) & \n",
    "                               (df.columns.get_level_values(2) == 'x')][0]\n",
    "            y_col = df.columns[(df.columns.get_level_values(1) == bodypart) & \n",
    "                               (df.columns.get_level_values(2) == 'y')][0]\n",
    "\n",
    "            x = df[x_col]\n",
    "            y = df[y_col]\n",
    "\n",
    "            if command == \"transpose=1\":\n",
    "                new_x = height - y\n",
    "                new_y = x\n",
    "            elif command == \"vflip,hflip\":\n",
    "                new_x = width - x\n",
    "                new_y = height - y\n",
    "            elif command == \"transpose=2\":\n",
    "                new_x = y\n",
    "                new_y = width - x\n",
    "            else:\n",
    "                raise ValueError(f\"Unsupported command: {command}\")\n",
    "\n",
    "            df[x_col] = new_x\n",
    "            df[y_col] = new_y\n",
    "\n",
    "    return df"
   ]
  },
  {
   "cell_type": "code",
   "execution_count": 44,
   "id": "da48264d",
   "metadata": {},
   "outputs": [],
   "source": [
    "copy_df = data.copy(1)\n",
    "new_df = permute_view_values_by_keypoint(data, original_views, [2, 0, 3, 1])"
   ]
  },
  {
   "cell_type": "code",
   "execution_count": null,
   "id": "9695506e",
   "metadata": {},
   "outputs": [],
   "source": []
  }
 ],
 "metadata": {
  "kernelspec": {
   "display_name": "ML",
   "language": "python",
   "name": "ml"
  },
  "language_info": {
   "codemirror_mode": {
    "name": "ipython",
    "version": 3
   },
   "file_extension": ".py",
   "mimetype": "text/x-python",
   "name": "python",
   "nbconvert_exporter": "python",
   "pygments_lexer": "ipython3",
   "version": "3.11.8"
  },
  "toc": {
   "base_numbering": 1,
   "nav_menu": {},
   "number_sections": true,
   "sideBar": true,
   "skip_h1_title": false,
   "title_cell": "Table of Contents",
   "title_sidebar": "Contents",
   "toc_cell": false,
   "toc_position": {},
   "toc_section_display": true,
   "toc_window_display": false
  },
  "varInspector": {
   "cols": {
    "lenName": 16,
    "lenType": 16,
    "lenVar": 40
   },
   "kernels_config": {
    "python": {
     "delete_cmd_postfix": "",
     "delete_cmd_prefix": "del ",
     "library": "var_list.py",
     "varRefreshCmd": "print(var_dic_list())"
    },
    "r": {
     "delete_cmd_postfix": ") ",
     "delete_cmd_prefix": "rm(",
     "library": "var_list.r",
     "varRefreshCmd": "cat(var_dic_list()) "
    }
   },
   "types_to_exclude": [
    "module",
    "function",
    "builtin_function_or_method",
    "instance",
    "_Feature"
   ],
   "window_display": false
  }
 },
 "nbformat": 4,
 "nbformat_minor": 5
}
