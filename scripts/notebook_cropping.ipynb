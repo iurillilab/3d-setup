{
 "cells": [
  {
   "cell_type": "code",
   "execution_count": 33,
   "metadata": {},
   "outputs": [],
   "source": [
    "%gui qt5\n",
    "import napari\n",
    "import cv2\n",
    "from bonpy import OpenCVMovieData\n",
    "from pathlib import Path\n",
    "import numpy as np\n",
    "from tqdm import tqdm"
   ]
  },
  {
   "cell_type": "code",
   "execution_count": 34,
   "metadata": {},
   "outputs": [],
   "source": [
    "# We assume that all movies in this folder have the same frame size and camera in\n",
    "# identical positions\n",
    "MOV_FOLDER = r\"E:\\dlc_analysis\\22042024\"\n",
    "MOV_FORMAT = \"avi\"\n",
    "SAMPLED_FRAMES = 100\n",
    "\n",
    "folder = Path(MOV_FOLDER)\n",
    "first_movie_file = next(folder.glob(\"*.avi\"))\n",
    "movie_data = OpenCVMovieData(first_movie_file)"
   ]
  },
  {
   "cell_type": "code",
   "execution_count": 35,
   "metadata": {},
   "outputs": [],
   "source": [
    "n_frames = movie_data.metadata.n_frames\n",
    "\n",
    "# Sample frames\n",
    "frames_idxs = np.arange(0, n_frames, n_frames // SAMPLED_FRAMES, dtype=int)\n",
    "avg_frame = movie_data[frames_idxs, :, :].mean(axis=0)"
   ]
  },
  {
   "cell_type": "code",
   "execution_count": 36,
   "metadata": {},
   "outputs": [],
   "source": [
    "napari_viewer = napari.Viewer()\n",
    "napari_viewer.add_image(avg_frame, name=\"Average frame\", contrast_limits=[0, 100])\n",
    "\n",
    "# Add rectangle layers for all views: bottom, mirror_left, mirror_right, mirror_top, mirror_bottom\n",
    "# The rectangle layers will be used to crop the frames.\n",
    "# Start from a guess of the rectangle position and size:\n",
    "# x, y, width, height\n",
    "corner_sw = (860, 340)\n",
    "corner_nw = (240, 340)\n",
    "corner_ne = (240, 940)\n",
    "corner_se = (860, 940)\n",
    "def_side = 220\n",
    "\n",
    "default_rectangles = {\n",
    "    \"central\": [corner_nw, corner_ne, corner_se, corner_sw],\n",
    "    \"mirror_top\": [(corner_nw[0] - def_side, corner_nw[1]), (corner_ne[0] - def_side, corner_ne[1]), corner_ne, corner_nw],\n",
    "    \"mirror_bottom\": [corner_sw, corner_se, (corner_se[0] + def_side, corner_se[1]), (corner_sw[0] + def_side, corner_sw[1])],\n",
    "    \"mirror_left\": [(corner_nw[0], corner_nw[1] - def_side), corner_nw, corner_sw, (corner_sw[0], corner_sw[1] - def_side)],\n",
    "    \"mirror_right\": [corner_ne, (corner_ne[0], corner_ne[1] + def_side), (corner_se[0], corner_se[1] + def_side), corner_se],\n",
    "}\n",
    "default_colors = {\n",
    "    \"central\": \"red\",\n",
    "    \"mirror_top\": \"blue\",\n",
    "    \"mirror_bottom\": \"green\",\n",
    "    \"mirror_left\": \"yellow\",\n",
    "    \"mirror_right\": \"purple\",\n",
    "}\n",
    "\n",
    "for view_name, rect in default_rectangles.items():\n",
    "    napari_viewer.add_shapes(\n",
    "        data=np.array([rect]),\n",
    "        shape_type='rectangle',\n",
    "        edge_color=default_colors[view_name],\n",
    "        face_color='#ffffff00',\n",
    "        edge_width=4,\n",
    "        opacity=1,\n",
    "        name=view_name\n",
    "    )\n",
    "    napari_viewer.layers[view_name].mode = \"select\"\n"
   ]
  },
  {
   "cell_type": "code",
   "execution_count": 37,
   "metadata": {},
   "outputs": [],
   "source": [
    "# Retrieve final adjusted rectangles data for cropping:\n",
    "\n",
    "final_rectangles = {}\n",
    "for view_name in default_rectangles.keys():\n",
    "    final_rectangles[view_name] = napari_viewer.layers[view_name].data[0].copy()\n",
    "napari_viewer.close()"
   ]
  },
  {
   "cell_type": "code",
   "execution_count": 38,
   "metadata": {},
   "outputs": [],
   "source": [
    "# From rectangle coordinates get width and height that could fit all side views.\n",
    "# (considering that left and right rectangles are vertical and top and bottom are horizontal)\n",
    "# First coordinate is the top left corner, other coordinates are clockwise.\n",
    "def get_width_height(rect):\n",
    "    width = rect[1][1] - rect[0][1]\n",
    "    height = rect[2][0] - rect[1][0]\n",
    "    return width, height\n",
    "\n",
    "all_measures = []\n",
    "for view_name, rect in final_rectangles.items():\n",
    "    if view_name == \"central\":\n",
    "        continue\n",
    "\n",
    "    w, h = get_width_height(rect)\n",
    "    to_append = [w, h] if view_name in [\"mirror_top\", \"mirror_bottom\"] else [h, w]\n",
    "    all_measures.append(to_append)\n",
    "all_measures = np.array(all_measures)\n",
    "\n",
    "w, h = all_measures.max(axis=0)\n",
    "\n",
    "# create dictionary with the final rectangles data for all views (x, y, width, height)\n",
    "final_rectangles_crops = {}\n",
    "for view_name, rect in final_rectangles.items():\n",
    "    x, y = rect[0]\n",
    "    width, height = get_width_height(rect) if view_name == \"central\" else (w, h)\n",
    "\n",
    "    final_rectangles_crops[view_name] = (x, y, width, height)\n"
   ]
  },
  {
   "cell_type": "code",
   "execution_count": 39,
   "metadata": {},
   "outputs": [],
   "source": [
    "# def stretch_contrast_limits(frame, contrast_lims):\n",
    "#     c_range = contrast_lims[1] - contrast_lims[0]\n",
    "#     frame = cv2.convertScaleAbs(frame, alpha=1.0, beta=contrast_lims[0])\n",
    "#     frame = cv2.convertScaleAbs(frame, alpha=255./c_range, \n",
    "#                                        beta=-contrast_lims[0]*255./c_range)\n",
    "#     return frame\n",
    "\n",
    "def fix_coords(coords_dict, frame_width, frame_height):\n",
    "    coords_dict_fixed = {}\n",
    "    for view, coords in coords_dict.items():\n",
    "        coords = tuple(map(int, coords))\n",
    "        coords = tuple(map(max, coords, (0, 0, 0, 0)))\n",
    "        coords = tuple(map(min, coords, (frame_width, frame_height, frame_width, frame_height)))\n",
    "\n",
    "        coords_dict_fixed[view] = coords\n",
    "    return coords_dict_fixed\n",
    "\n",
    "\n",
    "\n",
    "\n",
    "def crop_and_save_views(input_file, views_coords, contrast_lims=None, output_prefix=\"crop\",\n",
    "                        codec=None, test_mode=False):\n",
    "    \"\"\"\n",
    "    Crop and save views from an AVI movie.\n",
    "\n",
    "    Args:\n",
    "    - input_file: Path to the input AVI movie.\n",
    "    - output_prefix: Prefix for the output file names.\n",
    "    - views_coords: A dictionary with the coordinates for each view:\n",
    "        {\n",
    "            'central': (x, y, width, height),\n",
    "            'left': (x, y, width, height),\n",
    "            'right': (x, y, width, height),\n",
    "            'top': (x, y, width, height),\n",
    "            'bottom': (x, y, width, height)\n",
    "        }\n",
    "    - contrast_lims: Contrast limits to apply to the cropped views.\n",
    "    - codec: Codec to use for the output AVI files. If None, the codec of the input file will be used.\n",
    "             Useful alternative: cv2.VideoWriter_fourcc(*'XVID')\n",
    "    - test_mode: If True, only 1000 frames will be processed.\n",
    "    \"\"\"\n",
    "    input_file = Path(input_file)\n",
    "    output_folder = input_file.parent / f\"{input_file.stem}_cropped\"\n",
    "    output_folder.mkdir(exist_ok=True)\n",
    "\n",
    "\n",
    "\n",
    "    transform_funcs_dict = {\"mirror_top\": lambda x: np.fliplr(cv2.rotate(x, cv2.ROTATE_180)),\n",
    "                            \"mirror_bottom\": lambda x:  np.fliplr(x),\n",
    "                            \"mirror_left\": lambda x:  np.fliplr(cv2.rotate(x, cv2.ROTATE_90_COUNTERCLOCKWISE)),\n",
    "                            \"mirror_right\": lambda x:  np.fliplr(cv2.rotate(x, cv2.ROTATE_90_CLOCKWISE)),\n",
    "                            \"central\": lambda x: x}\n",
    "    \n",
    "    # Open the video file\n",
    "    cap = cv2.VideoCapture(str(input_file))\n",
    "    \n",
    "   \n",
    "    # Extract video properties\n",
    "    fps = cap.get(cv2.CAP_PROP_FPS)\n",
    "    frame_width = int(cap.get(cv2.CAP_PROP_FRAME_WIDTH))\n",
    "    frame_height = int(cap.get(cv2.CAP_PROP_FRAME_HEIGHT))\n",
    "    n_frames = int(cap.get(cv2.CAP_PROP_FRAME_COUNT))\n",
    "    \n",
    "    # ensure input coords are integers and within the frame:\n",
    "    views_coords = fix_coords(views_coords, frame_width, frame_height)\n",
    "    \n",
    "    # Use same codec as input video file:\n",
    "    if codec is None:\n",
    "        codec = int(cap.get(cv2.CAP_PROP_FOURCC))\n",
    "    \n",
    "    outputs = {}\n",
    "    for view in views_coords:\n",
    "        x, y, w, h = views_coords[view]\n",
    "\n",
    "        fname = str(output_folder / f\"{input_file.stem}_{view}.avi\")\n",
    "        # print(f\"Saving {view} to {fname} (h, w): {h}, {w}\")\n",
    "        outputs[view] = cv2.VideoWriter(fname, codec, fps, (w, h))\n",
    "    \n",
    "        \n",
    "    to_process = 1000 if test_mode else n_frames\n",
    "    for _ in tqdm(range(to_process)):  #n_frames\n",
    "        ret, frame = cap.read()\n",
    "        if not ret:\n",
    "            break\n",
    "\n",
    "        # Crop each view and write to file\n",
    "        for view, (y, x, w, h) in views_coords.items():\n",
    "            if view in ['mirror_left', 'mirror_right']:\n",
    "                w, h = h, w\n",
    "            # print(f\"View: {view}, x={x}, y={y}, w={w}, h={h} \" )\n",
    "            cropped_view = frame[y:y+h, x:x+w]\n",
    "            # print(cropped_view.shape)\n",
    "            # if contrast_lims is not None:\n",
    "            #     cropped_view = stretch_contrast_limits(cropped_view, contrast_lims)\n",
    "            \n",
    "            cropped_view = transform_funcs_dict[view](cropped_view)\n",
    "            \n",
    "            # # # if view != \"central\":\n",
    "            # # #     cropped_view = np.flip(cropped_view)\n",
    "\n",
    "            \n",
    "                \n",
    "            # print(\"After\", cropped_view.shape)\n",
    "            outputs[view].write(cropped_view)\n",
    "        \n",
    "    # Release everything\n",
    "    cap.release()\n",
    "    for output in outputs.values():\n",
    "        output.release()"
   ]
  },
  {
   "cell_type": "code",
   "execution_count": 40,
   "metadata": {},
   "outputs": [
    {
     "name": "stderr",
     "output_type": "stream",
     "text": [
      "  0%|          | 0/107962 [00:00<?, ?it/s]"
     ]
    },
    {
     "name": "stderr",
     "output_type": "stream",
     "text": [
      "100%|██████████| 107962/107962 [17:43<00:00, 101.51it/s]\n",
      "100%|██████████| 107959/107959 [17:52<00:00, 100.66it/s]\n",
      "100%|██████████| 107960/107960 [18:00<00:00, 99.96it/s] \n"
     ]
    }
   ],
   "source": [
    "for f in folder.glob(\"*.avi\"):\n",
    "    crop_and_save_views(f, final_rectangles_crops, contrast_lims=[0, 100], output_prefix=\"cropped\")\n"
   ]
  },
  {
   "cell_type": "code",
   "execution_count": 7,
   "metadata": {},
   "outputs": [
    {
     "name": "stdout",
     "output_type": "stream",
     "text": [
      "Original file size: 6764538358 bytes\n"
     ]
    },
    {
     "name": "stderr",
     "output_type": "stream",
     "text": [
      "100%|██████████| 1000/1000 [00:07<00:00, 129.68it/s]\n"
     ]
    },
    {
     "name": "stdout",
     "output_type": "stream",
     "text": [
      "DIVX file size: 13535788; 21.60% of the original size\n"
     ]
    },
    {
     "name": "stderr",
     "output_type": "stream",
     "text": [
      "100%|██████████| 1000/1000 [00:07<00:00, 127.39it/s]\n"
     ]
    },
    {
     "name": "stdout",
     "output_type": "stream",
     "text": [
      "XVID file size: 13535788; 21.60% of the original size\n"
     ]
    },
    {
     "name": "stderr",
     "output_type": "stream",
     "text": [
      "100%|██████████| 1000/1000 [00:19<00:00, 50.41it/s]\n"
     ]
    },
    {
     "name": "stdout",
     "output_type": "stream",
     "text": [
      "MJPG file size: 100560944; 160.49% of the original size\n"
     ]
    },
    {
     "name": "stderr",
     "output_type": "stream",
     "text": [
      "100%|██████████| 1000/1000 [00:03<00:00, 284.06it/s]\n"
     ]
    },
    {
     "name": "stdout",
     "output_type": "stream",
     "text": [
      "X264 file size: 1695510; 2.71% of the original size\n"
     ]
    },
    {
     "name": "stderr",
     "output_type": "stream",
     "text": [
      "100%|██████████| 1000/1000 [00:08<00:00, 124.89it/s]"
     ]
    },
    {
     "name": "stdout",
     "output_type": "stream",
     "text": [
      "MP4V file size: 13535788; 21.60% of the original size\n"
     ]
    },
    {
     "name": "stderr",
     "output_type": "stream",
     "text": [
      "\n"
     ]
    }
   ],
   "source": [
    "import cv2\n",
    "import os\n",
    "from tqdm import tqdm\n",
    "\n",
    "def get_file_size(file_path):\n",
    "    \"\"\"Returns the file size in bytes.\"\"\"\n",
    "    return os.path.getsize(file_path)\n",
    "\n",
    "def export_video(input_file, codec, output_file):\n",
    "    \"\"\"Exports the video with the specified codec.\"\"\"\n",
    "    cap = cv2.VideoCapture(input_file)\n",
    "    if not cap.isOpened():\n",
    "        print(f\"Error opening video file {input_file}\")\n",
    "        return\n",
    "\n",
    "    # Get the width, height, and frames per second of the input video\n",
    "    width = int(cap.get(cv2.CAP_PROP_FRAME_WIDTH))\n",
    "    height = int(cap.get(cv2.CAP_PROP_FRAME_HEIGHT))\n",
    "    fps = cap.get(cv2.CAP_PROP_FPS)\n",
    "    n_frames = int(cap.get(cv2.CAP_PROP_FRAME_COUNT))\n",
    "\n",
    "    # Define the codec and create the VideoWriter object\n",
    "    fourcc = cv2.VideoWriter_fourcc(*codec)\n",
    "    out = cv2.VideoWriter(output_file, fourcc, fps, (width, height))\n",
    "\n",
    "    tosave_n = 1000\n",
    "    # while cap.isOpened():\n",
    "    for i in tqdm(range(tosave_n)):\n",
    "        ret, frame = cap.read()\n",
    "        # if not ret:\n",
    "        #    break\n",
    "        out.write(frame)\n",
    "\n",
    "    # Release everything\n",
    "    cap.release()\n",
    "    out.release()\n",
    "\n",
    "    original_size = get_file_size(input_file)\n",
    "    output_size = get_file_size(output_file)\n",
    "    fraction_of_original = tosave_n / n_frames\n",
    "    print(f\"{codec_name} file size: {output_size}; {(output_size / (original_size*fraction_of_original)) * 100:.2f}% of the original size\")\n",
    "\n",
    "input_file = '/Users/vigji/test-movie.avi'\n",
    "codecs = {\n",
    "    'DIVX': 'DIVX',  # DivX\n",
    "    'XVID': 'XVID',  # Xvid\n",
    "    'MJPG': 'MJPG',  # Motion JPEG\n",
    "    'X264': 'H264',  # H.264\n",
    "    'MP4V': 'mp4v',  # MPEG-4\n",
    "}\n",
    "\n",
    "# Get the size of the original file\n",
    "\n",
    "print(f\"Original file size: {original_size} bytes\")\n",
    "\n",
    "for codec_name, codec in codecs.items():\n",
    "    output_file = f'output-video_{codec_name}.avi'\n",
    "    export_video(input_file, codec, output_file)\n",
    "    \n",
    "    #if os.path.exists(output_file):\n",
    "    #    \n",
    "    #else:\n",
    "    #    print(f\"Failed to create {output_file} with codec {codec_name}\")\n"
   ]
  },
  {
   "cell_type": "code",
   "execution_count": 16,
   "metadata": {},
   "outputs": [
    {
     "name": "stderr",
     "output_type": "stream",
     "text": [
      "ffmpeg version 6.1 Copyright (c) 2000-2023 the FFmpeg developers\n",
      "  built with clang version 16.0.6\n",
      "  configuration: --prefix=/Users/runner/miniforge3/conda-bld/ffmpeg_1699837992312/_h_env_placehold_placehold_placehold_placehold_placehold_placehold_placehold_placehold_placehold_placehold_placehold_placehold_placehold_placehold_placehold_placehold_placehold_placehold_placehold_pl --cc=arm64-apple-darwin20.0.0-clang --cxx=arm64-apple-darwin20.0.0-clang++ --nm=arm64-apple-darwin20.0.0-nm --ar=arm64-apple-darwin20.0.0-ar --disable-doc --disable-openssl --enable-demuxer=dash --enable-hardcoded-tables --enable-libfreetype --enable-libfontconfig --enable-libopenh264 --enable-libdav1d --enable-cross-compile --arch=arm64 --target-os=darwin --cross-prefix=arm64-apple-darwin20.0.0- --host-cc=/Users/runner/miniforge3/conda-bld/ffmpeg_1699837992312/_build_env/bin/x86_64-apple-darwin13.4.0-clang --enable-neon --enable-gnutls --enable-libmp3lame --enable-libvpx --enable-libass --enable-pthreads --enable-gpl --enable-libx264 --enable-libx265 --enable-libaom --enable-libsvtav1 --enable-libxml2 --enable-pic --enable-shared --disable-static --enable-version3 --enable-zlib --enable-libopus --pkg-config=/Users/runner/miniforge3/conda-bld/ffmpeg_1699837992312/_build_env/bin/pkg-config\n",
      "  libavutil      58. 29.100 / 58. 29.100\n",
      "  libavcodec     60. 31.102 / 60. 31.102\n",
      "  libavformat    60. 16.100 / 60. 16.100\n",
      "  libavdevice    60.  3.100 / 60.  3.100\n",
      "  libavfilter     9. 12.100 /  9. 12.100\n",
      "  libswscale      7.  5.100 /  7.  5.100\n",
      "  libswresample   4. 12.100 /  4. 12.100\n",
      "  libpostproc    57.  3.100 / 57.  3.100\n",
      "Input #0, avi, from '/Users/vigji/test-movie.avi':\n",
      "  Metadata:\n",
      "    software        : Lavf59.27.100\n",
      "  Duration: 00:29:59.32, start: 0.000000, bitrate: 30076 kb/s\n",
      "  Stream #0:0: Video: h264 (High 4:4:4 Predictive) (H264 / 0x34363248), gbrp(pc, gbr/unknown/unknown, progressive), 1080x1080 [SAR 1:1 DAR 1:1], 30067 kb/s, 60 fps, 60 tbr, 60 tbn\n",
      "Stream mapping:\n",
      "  Stream #0:0 -> #0:0 (h264 (native) -> h264 (libx264))\n",
      "Press [q] to stop, [?] for help\n",
      "[libx264 @ 0x125e07360] using SAR=1/1\n",
      "[libx264 @ 0x125e07360] using cpu capabilities: ARMv8 NEON\n",
      "[libx264 @ 0x125e07360] profile High, level 3.1, 4:0:0, 8-bit\n",
      "Output #0, avi, to 'output-cropped.avi':\n",
      "  Metadata:\n",
      "    software        : Lavf59.27.100\n",
      "    ISFT            : Lavf60.16.100\n",
      "  Stream #0:0: Video: h264 (H264 / 0x34363248), gray(pc, progressive), 640x480 [SAR 1:1 DAR 4:3], q=2-31, 30000 kb/s, 60 fps, 60 tbn\n",
      "    Metadata:\n",
      "      encoder         : Lavc60.31.102 libx264\n",
      "    Side data:\n",
      "      cpb: bitrate max/min/avg: 0/0/30000000 buffer size: 0 vbv_delay: N/A\n",
      "[out#0/avi @ 0x125e06330] video:37107kB audio:0kB subtitle:0kB other streams:0kB global headers:0kB muxing overhead: 0.080060%\n",
      "frame= 1000 fps=654 q=-1.0 Lsize=   37137kB time=00:00:16.73 bitrate=18180.7kbits/s dup=0 drop=5 speed=10.9x    \n",
      "[libx264 @ 0x125e07360] frame I:4     Avg QP: 1.98  size:116162\n",
      "[libx264 @ 0x125e07360] frame P:252   Avg QP: 3.84  size: 69350\n",
      "[libx264 @ 0x125e07360] frame B:744   Avg QP: 6.94  size: 26958\n",
      "[libx264 @ 0x125e07360] consecutive B-frames:  0.8%  0.0%  0.0% 99.2%\n",
      "[libx264 @ 0x125e07360] mb I  I16..4:  4.5% 16.1% 79.4%\n",
      "[libx264 @ 0x125e07360] mb P  I16..4:  1.2%  1.7%  1.2%  P16..4: 73.3% 12.4% 10.2%  0.0%  0.0%    skip: 0.0%\n",
      "[libx264 @ 0x125e07360] mb B  I16..4:  0.1%  0.0%  0.1%  B16..8: 35.1% 16.5%  2.4%  direct:38.1%  skip: 7.8%  L0:44.4% L1:40.5% BI:15.1%\n",
      "[libx264 @ 0x125e07360] 8x8 transform intra:32.9% inter:22.5%\n",
      "[libx264 @ 0x125e07360] coded y intra: 99.9% inter: 79.7%\n",
      "[libx264 @ 0x125e07360] i16 v,h,dc,p: 42%  7% 44%  7%\n",
      "[libx264 @ 0x125e07360] i8 v,h,dc,ddl,ddr,vr,hd,vl,hu: 33% 19% 31%  2%  3%  2%  3%  3%  4%\n",
      "[libx264 @ 0x125e07360] i4 v,h,dc,ddl,ddr,vr,hd,vl,hu: 43% 17% 16%  2%  6%  3%  4%  3%  6%\n",
      "[libx264 @ 0x125e07360] i8c dc,h,v,p: 100%  0%  0%  0%\n",
      "[libx264 @ 0x125e07360] Weighted P-Frames: Y:0.0%\n",
      "[libx264 @ 0x125e07360] kb/s:18130.05\n"
     ]
    },
    {
     "data": {
      "text/plain": [
       "CompletedProcess(args=['ffmpeg', '-i', '/Users/vigji/test-movie.avi', '-vf', 'crop=640:480:100:50', '-vframes', '1000', '-c:v', 'libx264', '-b:v', '30M', '-crf', '1', '-preset', 'veryfast', '-pix_fmt', 'gray', '-c:a', 'copy', 'output-cropped.avi'], returncode=0)"
      ]
     },
     "execution_count": 16,
     "metadata": {},
     "output_type": "execute_result"
    }
   ],
   "source": [
    "import subprocess\n",
    "\n",
    "input_file = '/Users/vigji/test-movie.avi'\n",
    "output_file = 'output-cropped.avi'\n",
    "crop_width = 640  # Width of the cropping window\n",
    "crop_height = 480  # Height of the cropping window\n",
    "crop_x = 100  # X coordinate of the top-left corner of the cropping window\n",
    "crop_y = 50  # Y coordinate of the top-left corner of the cropping window\n",
    "frames = 1000\n",
    "\n",
    "ffmpeg_command = [\n",
    " \n",
    "        output_file  # Output file\n",
    "    ]\n",
    "\n",
    "subprocess.run(ffmpeg_command, check=True)"
   ]
  },
  {
   "cell_type": "code",
   "execution_count": null,
   "metadata": {},
   "outputs": [],
   "source": []
  }
 ],
 "metadata": {
  "kernelspec": {
   "display_name": "lab-env",
   "language": "python",
   "name": "python3"
  },
  "language_info": {
   "codemirror_mode": {
    "name": "ipython",
    "version": 3
   },
   "file_extension": ".py",
   "mimetype": "text/x-python",
   "name": "python",
   "nbconvert_exporter": "python",
   "pygments_lexer": "ipython3",
   "version": "3.10.0"
  }
 },
 "nbformat": 4,
 "nbformat_minor": 2
}
