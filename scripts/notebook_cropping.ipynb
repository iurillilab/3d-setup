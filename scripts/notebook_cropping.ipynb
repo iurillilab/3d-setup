{
 "cells": [
  {
   "cell_type": "code",
   "execution_count": 1,
   "metadata": {},
   "outputs": [],
   "source": [
    "%gui qt5\n",
    "import napari\n",
    "import cv2\n",
    "from bonpy import OpenCVMovieData\n",
    "from pathlib import Path\n",
    "import numpy as np\n",
    "from tqdm import tqdm"
   ]
  },
  {
   "cell_type": "code",
   "execution_count": 2,
   "metadata": {},
   "outputs": [],
   "source": [
    "# We assume that all movies in this folder have the same frame size and camera in\n",
    "# identical positions\n",
    "MOV_FOLDER = \"/Users/vigji/Desktop/rig_test_videos/checkerboard\"\n",
    "MOV_FORMAT = \"avi\"\n",
    "SAMPLED_FRAMES = 100\n",
    "\n",
    "folder = Path(MOV_FOLDER)\n",
    "first_movie_file = next(folder.glob(\"*.avi\"))\n",
    "movie_data = OpenCVMovieData(first_movie_file)"
   ]
  },
  {
   "cell_type": "code",
   "execution_count": 3,
   "metadata": {},
   "outputs": [],
   "source": [
    "n_frames = movie_data.metadata.n_frames\n",
    "\n",
    "# Sample frames\n",
    "frames_idxs = np.arange(0, n_frames, n_frames // SAMPLED_FRAMES, dtype=int)\n",
    "avg_frame = movie_data[frames_idxs, :, :].mean(axis=0)"
   ]
  },
  {
   "cell_type": "code",
   "execution_count": 4,
   "metadata": {},
   "outputs": [],
   "source": [
    "napari_viewer = napari.Viewer()\n",
    "napari_viewer.add_image(avg_frame, name=\"Average frame\", contrast_limits=[0, 100])\n",
    "\n",
    "# Add rectangle layers for all views: bottom, mirror_left, mirror_right, mirror_top, mirror_bottom\n",
    "# The rectangle layers will be used to crop the frames.\n",
    "# Start from a guess of the rectangle position and size:\n",
    "# x, y, width, height\n",
    "corner_sw = (860, 340)\n",
    "corner_nw = (240, 340)\n",
    "corner_ne = (240, 940)\n",
    "corner_se = (860, 940)\n",
    "def_side = 220\n",
    "\n",
    "default_rectangles = {\n",
    "    \"central\": [corner_nw, corner_ne, corner_se, corner_sw],\n",
    "    \"mirror_top\": [(corner_nw[0] - def_side, corner_nw[1]), (corner_ne[0] - def_side, corner_ne[1]), corner_ne, corner_nw],\n",
    "    \"mirror_bottom\": [corner_sw, corner_se, (corner_se[0] + def_side, corner_se[1]), (corner_sw[0] + def_side, corner_sw[1])],\n",
    "    \"mirror_left\": [(corner_nw[0], corner_nw[1] - def_side), corner_nw, corner_sw, (corner_sw[0], corner_sw[1] - def_side)],\n",
    "    \"mirror_right\": [corner_ne, (corner_ne[0], corner_ne[1] + def_side), (corner_se[0], corner_se[1] + def_side), corner_se],\n",
    "}\n",
    "default_colors = {\n",
    "    \"central\": \"red\",\n",
    "    \"mirror_top\": \"blue\",\n",
    "    \"mirror_bottom\": \"green\",\n",
    "    \"mirror_left\": \"yellow\",\n",
    "    \"mirror_right\": \"purple\",\n",
    "}\n",
    "\n",
    "for view_name, rect in default_rectangles.items():\n",
    "    napari_viewer.add_shapes(\n",
    "        data=np.array([rect]),\n",
    "        shape_type='rectangle',\n",
    "        edge_color=default_colors[view_name],\n",
    "        face_color='#ffffff00',\n",
    "        edge_width=4,\n",
    "        opacity=1,\n",
    "        name=view_name\n",
    "    )\n",
    "    napari_viewer.layers[view_name].mode = \"select\"\n"
   ]
  },
  {
   "cell_type": "code",
   "execution_count": 5,
   "metadata": {},
   "outputs": [],
   "source": [
    "# Retrieve final adjusted rectangles data for cropping:\n",
    "\n",
    "final_rectangles = {}\n",
    "for view_name in default_rectangles.keys():\n",
    "    final_rectangles[view_name] = napari_viewer.layers[view_name].data[0].copy()\n",
    "napari_viewer.close()"
   ]
  },
  {
   "cell_type": "code",
   "execution_count": 6,
   "metadata": {},
   "outputs": [],
   "source": [
    "# From rectangle coordinates get width and height that could fit all side views.\n",
    "# (considering that left and right rectangles are vertical and top and bottom are horizontal)\n",
    "# First coordinate is the top left corner, other coordinates are clockwise.\n",
    "def get_width_height(rect):\n",
    "    width = rect[1][1] - rect[0][1]\n",
    "    height = rect[2][0] - rect[1][0]\n",
    "    return width, height\n",
    "\n",
    "all_measures = []\n",
    "for view_name, rect in final_rectangles.items():\n",
    "    if view_name == \"central\":\n",
    "        continue\n",
    "\n",
    "    w, h = get_width_height(rect)\n",
    "    to_append = [w, h] if view_name in [\"mirror_top\", \"mirror_bottom\"] else [h, w]\n",
    "    all_measures.append(to_append)\n",
    "all_measures = np.array(all_measures)\n",
    "\n",
    "w, h = all_measures.max(axis=0)\n",
    "\n",
    "# create dictionary with the final rectangles data for all views (x, y, width, height)\n",
    "final_rectangles_crops = {}\n",
    "for view_name, rect in final_rectangles.items():\n",
    "    x, y = rect[0]\n",
    "    width, height = get_width_height(rect) if view_name == \"central\" else (w, h)\n",
    "\n",
    "    final_rectangles_crops[view_name] = (x, y, width, height)\n"
   ]
  },
  {
   "cell_type": "code",
   "execution_count": 7,
   "metadata": {},
   "outputs": [],
   "source": [
    "def stretch_contrast_limits(frame, contrast_lims):\n",
    "    c_range = contrast_lims[1] - contrast_lims[0]\n",
    "    frame = cv2.convertScaleAbs(frame, alpha=1.0, beta=contrast_lims[0])\n",
    "    frame = cv2.convertScaleAbs(frame, alpha=255./c_range, \n",
    "                                       beta=-contrast_lims[0]*255./c_range)\n",
    "    return frame\n",
    "\n",
    "def fix_coords(coords_dict, frame_width, frame_height):\n",
    "    coords_dict_fixed = {}\n",
    "    for view, coords in coords_dict.items():\n",
    "        coords = tuple(map(int, coords))\n",
    "        coords = tuple(map(max, coords, (0, 0, 0, 0)))\n",
    "        coords = tuple(map(min, coords, (frame_width, frame_height, frame_width, frame_height)))\n",
    "\n",
    "        coords_dict_fixed[view] = coords\n",
    "    return coords_dict_fixed\n",
    "\n",
    "\n",
    "\n",
    "\n",
    "def crop_and_save_views(input_file, views_coords, contrast_lims=None, output_prefix=\"crop\",\n",
    "                        codec=None, test_mode=False):\n",
    "    \"\"\"\n",
    "    Crop and save views from an AVI movie.\n",
    "\n",
    "    Args:\n",
    "    - input_file: Path to the input AVI movie.\n",
    "    - output_prefix: Prefix for the output file names.\n",
    "    - views_coords: A dictionary with the coordinates for each view:\n",
    "        {\n",
    "            'central': (x, y, width, height),\n",
    "            'left': (x, y, width, height),\n",
    "            'right': (x, y, width, height),\n",
    "            'top': (x, y, width, height),\n",
    "            'bottom': (x, y, width, height)\n",
    "        }\n",
    "    - contrast_lims: Contrast limits to apply to the cropped views.\n",
    "    - codec: Codec to use for the output AVI files. If None, the codec of the input file will be used.\n",
    "             Useful alternative: cv2.VideoWriter_fourcc(*'XVID')\n",
    "    - test_mode: If True, only 1000 frames will be processed.\n",
    "    \"\"\"\n",
    "    input_file = Path(input_file)\n",
    "    output_folder = input_file.parent / f\"{input_file.stem}_cropped\"\n",
    "    output_folder.mkdir(exist_ok=True)\n",
    "\n",
    "    transform_funcs_dict = {\"mirror_top\": lambda x: cv2.rotate(x, cv2.ROTATE_180),\n",
    "                            \"mirror_bottom\": lambda x: x,\n",
    "                            \"mirror_left\": lambda x: cv2.rotate(x, cv2.ROTATE_90_COUNTERCLOCKWISE),\n",
    "                            \"mirror_right\": lambda x: cv2.rotate(x, cv2.ROTATE_90_CLOCKWISE),\n",
    "                            \"central\": lambda x: x}\n",
    "    \n",
    "    # Open the video file\n",
    "    cap = cv2.VideoCapture(str(input_file))\n",
    "    \n",
    "    # Extract video properties\n",
    "    fps = cap.get(cv2.CAP_PROP_FPS)\n",
    "    frame_width = int(cap.get(cv2.CAP_PROP_FRAME_WIDTH))\n",
    "    frame_height = int(cap.get(cv2.CAP_PROP_FRAME_HEIGHT))\n",
    "    n_frames = int(cap.get(cv2.CAP_PROP_FRAME_COUNT))\n",
    "    \n",
    "    # ensure input coords are integers and within the frame:\n",
    "    views_coords = fix_coords(views_coords, frame_width, frame_height)\n",
    "    \n",
    "    # Use same codec as input video file:\n",
    "    if codec is None:\n",
    "        codec = int(cap.get(cv2.CAP_PROP_FOURCC))\n",
    "    \n",
    "    outputs = {}\n",
    "    for view in views_coords:\n",
    "        x, y, w, h = views_coords[view]\n",
    "\n",
    "        fname = str(output_folder / f\"{input_file.stem}_{view}.avi\")\n",
    "        # print(f\"Saving {view} to {fname} (h, w): {h}, {w}\")\n",
    "        outputs[view] = cv2.VideoWriter(fname, codec, fps, (w, h))\n",
    "    \n",
    "        \n",
    "    to_process = 1000 if test_mode else n_frames\n",
    "    for _ in tqdm(range(to_process)):  #n_frames\n",
    "        ret, frame = cap.read()\n",
    "        if not ret:\n",
    "            break\n",
    "\n",
    "        # Crop each view and write to file\n",
    "        for view, (y, x, w, h) in views_coords.items():\n",
    "            if view in ['mirror_left', 'mirror_right']:\n",
    "                w, h = h, w\n",
    "            # print(f\"View: {view}, x={x}, y={y}, w={w}, h={h} \" )\n",
    "            cropped_view = frame[y:y+h, x:x+w]\n",
    "            # print(cropped_view.shape)\n",
    "            if contrast_lims is not None:\n",
    "                cropped_view = stretch_contrast_limits(cropped_view, contrast_lims)\n",
    "            cropped_view = transform_funcs_dict[view](cropped_view)\n",
    "            # print(\"After\", cropped_view.shape)\n",
    "            outputs[view].write(cropped_view)\n",
    "        \n",
    "    # Release everything\n",
    "    cap.release()\n",
    "    for output in outputs.values():\n",
    "        output.release()"
   ]
  },
  {
   "cell_type": "code",
   "execution_count": 9,
   "metadata": {},
   "outputs": [
    {
     "name": "stderr",
     "output_type": "stream",
     "text": [
      "100%|██████████| 17344/17344 [02:51<00:00, 100.91it/s]\n"
     ]
    }
   ],
   "source": [
    "for f in folder.glob(\"*.avi\"):\n",
    "    crop_and_save_views(f, final_rectangles_crops, contrast_lims=[0, 100], output_prefix=\"cropped\")\n"
   ]
  },
  {
   "cell_type": "code",
   "execution_count": 133,
   "metadata": {},
   "outputs": [
    {
     "data": {
      "text/plain": [
       "0"
      ]
     },
     "execution_count": 133,
     "metadata": {},
     "output_type": "execute_result"
    }
   ],
   "source": [
    "cv2.ROTATE_90_CLOCKWISE# (cv2.ROTATE_90_CLOCKWISE(x))"
   ]
  },
  {
   "cell_type": "code",
   "execution_count": null,
   "metadata": {},
   "outputs": [],
   "source": []
  }
 ],
 "metadata": {
  "kernelspec": {
   "display_name": "lab-env",
   "language": "python",
   "name": "python3"
  },
  "language_info": {
   "codemirror_mode": {
    "name": "ipython",
    "version": 3
   },
   "file_extension": ".py",
   "mimetype": "text/x-python",
   "name": "python",
   "nbconvert_exporter": "python",
   "pygments_lexer": "ipython3",
   "version": "3.10.0"
  }
 },
 "nbformat": 4,
 "nbformat_minor": 2
}
