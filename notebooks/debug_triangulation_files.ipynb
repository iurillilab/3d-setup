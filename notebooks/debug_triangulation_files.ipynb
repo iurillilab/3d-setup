{
 "cells": [
  {
   "cell_type": "code",
   "execution_count": 10,
   "metadata": {},
   "outputs": [],
   "source": [
    "from pathlib import Path\n",
    "import numpy as np\n",
    "import matplotlib.pyplot as plt\n",
    "from tqdm import tqdm\n",
    "import multicam_calibration.geometry as mcc_geom\n",
    "import pandas as pd\n",
    "import xarray as xr\n",
    "from movement.io.load_poses import from_numpy\n",
    "from threed_utils.io import movement_ds_from_anipose_triangulation_df, read_calibration_toml\n",
    "from threed_utils.anipose.triangulate import CameraGroup, triangulate_core\n",
    "import argparse\n",
    "import re\n",
    "from movement.io.load_poses import from_file\n",
    "import matplotlib\n",
    "matplotlib.use('Agg') \n",
    "import multicam_calibration as mcc\n",
    "from multicam_calibration.geometry import triangulate\n",
    "from pathlib import Path\n",
    "from tqdm import tqdm\n",
    "from datetime import datetime\n",
    "import flammkuchen as fl\n",
    "from threed_utils.io import write_calibration_toml\n",
    "from tqdm import tqdm, trange\n",
    "import cv2"
   ]
  },
  {
   "cell_type": "code",
   "execution_count": 11,
   "metadata": {},
   "outputs": [],
   "source": [
    "slp_files_dir = Path(r\"D:\\P05_3DRIG_YE-LP\\e01_mouse_hunting\\v04_mice-hunting\\20240722\\M2\\101922\\multicam_video_2024-07-22T10_34_10_cropped_20241209165236\")"
   ]
  },
  {
   "cell_type": "code",
   "execution_count": 12,
   "metadata": {},
   "outputs": [],
   "source": [
    "slp_files = list(slp_files_dir.glob(\"*.slp\"))"
   ]
  },
  {
   "cell_type": "code",
   "execution_count": 17,
   "metadata": {},
   "outputs": [
    {
     "data": {
      "text/plain": [
       "[WindowsPath('D:/P05_3DRIG_YE-LP/e01_mouse_hunting/v04_mice-hunting/20240722/M2/101922/multicam_video_2024-07-22T10_34_10_cropped_20241209165236/multicam_video_2024-07-22T10_34_10_central.avi.mp4.slp'),\n",
       " WindowsPath('D:/P05_3DRIG_YE-LP/e01_mouse_hunting/v04_mice-hunting/20240722/M2/101922/multicam_video_2024-07-22T10_34_10_cropped_20241209165236/multicam_video_2024-07-22T10_34_10_centralpredictions.slp'),\n",
       " WindowsPath('D:/P05_3DRIG_YE-LP/e01_mouse_hunting/v04_mice-hunting/20240722/M2/101922/multicam_video_2024-07-22T10_34_10_cropped_20241209165236/multicam_video_2024-07-22T10_34_10_centralpredictions.slp.slp'),\n",
       " WindowsPath('D:/P05_3DRIG_YE-LP/e01_mouse_hunting/v04_mice-hunting/20240722/M2/101922/multicam_video_2024-07-22T10_34_10_cropped_20241209165236/multicam_video_2024-07-22T10_34_10_mirror-bottompredictions.slp'),\n",
       " WindowsPath('D:/P05_3DRIG_YE-LP/e01_mouse_hunting/v04_mice-hunting/20240722/M2/101922/multicam_video_2024-07-22T10_34_10_cropped_20241209165236/multicam_video_2024-07-22T10_34_10_mirror-leftpredictions.slp'),\n",
       " WindowsPath('D:/P05_3DRIG_YE-LP/e01_mouse_hunting/v04_mice-hunting/20240722/M2/101922/multicam_video_2024-07-22T10_34_10_cropped_20241209165236/multicam_video_2024-07-22T10_34_10_mirror-rightpredictions.slp'),\n",
       " WindowsPath('D:/P05_3DRIG_YE-LP/e01_mouse_hunting/v04_mice-hunting/20240722/M2/101922/multicam_video_2024-07-22T10_34_10_cropped_20241209165236/multicam_video_2024-07-22T10_34_10_mirror-toppredictions.slp')]"
      ]
     },
     "execution_count": 17,
     "metadata": {},
     "output_type": "execute_result"
    }
   ],
   "source": [
    "slp_files"
   ]
  },
  {
   "cell_type": "code",
   "execution_count": 18,
   "metadata": {},
   "outputs": [
    {
     "ename": "AttributeError",
     "evalue": "'NoneType' object has no attribute 'groups'",
     "output_type": "error",
     "traceback": [
      "\u001b[1;31m---------------------------------------------------------------------------\u001b[0m",
      "\u001b[1;31mAttributeError\u001b[0m                            Traceback (most recent call last)",
      "Cell \u001b[1;32mIn[18], line 11\u001b[0m\n\u001b[0;32m      3\u001b[0m cam_regex \u001b[38;5;241m=\u001b[39m \u001b[38;5;124mr\u001b[39m\u001b[38;5;124m\"\u001b[39m\u001b[38;5;124mmulticam_video_\u001b[39m\u001b[38;5;124m\\\u001b[39m\u001b[38;5;124md\u001b[39m\u001b[38;5;132;01m{4}\u001b[39;00m\u001b[38;5;124m-\u001b[39m\u001b[38;5;124m\\\u001b[39m\u001b[38;5;124md\u001b[39m\u001b[38;5;132;01m{2}\u001b[39;00m\u001b[38;5;124m-\u001b[39m\u001b[38;5;124m\\\u001b[39m\u001b[38;5;124md\u001b[39m\u001b[38;5;132;01m{2}\u001b[39;00m\u001b[38;5;124mT\u001b[39m\u001b[38;5;124m\\\u001b[39m\u001b[38;5;124md\u001b[39m\u001b[38;5;132;01m{2}\u001b[39;00m\u001b[38;5;124m_\u001b[39m\u001b[38;5;124m\\\u001b[39m\u001b[38;5;124md\u001b[39m\u001b[38;5;132;01m{2}\u001b[39;00m\u001b[38;5;124m_\u001b[39m\u001b[38;5;124m\\\u001b[39m\u001b[38;5;124md\u001b[39m\u001b[38;5;132;01m{2}\u001b[39;00m\u001b[38;5;124m_([^_]+)predictions\u001b[39m\u001b[38;5;124m\\\u001b[39m\u001b[38;5;124m.slp$\u001b[39m\u001b[38;5;124m\"\u001b[39m\n\u001b[0;32m      7\u001b[0m \u001b[38;5;66;03m#mac regex\u001b[39;00m\n\u001b[0;32m      8\u001b[0m \u001b[38;5;66;03m#cam_regex = r\"multicam_video_\\d{4}-\\d{2}-\\d{2}T\\d{2}_\\d{2}_\\d{2}_([^_]+)_predictions\\.slp$\" \u001b[39;00m\n\u001b[1;32m---> 11\u001b[0m file_path_dict \u001b[38;5;241m=\u001b[39m {re\u001b[38;5;241m.\u001b[39msearch(cam_regex, \u001b[38;5;28mstr\u001b[39m(f\u001b[38;5;241m.\u001b[39mname))\u001b[38;5;241m.\u001b[39mgroups()[\u001b[38;5;241m0\u001b[39m]: f \u001b[38;5;28;01mfor\u001b[39;00m f \u001b[38;5;129;01min\u001b[39;00m slp_files}\n",
      "Cell \u001b[1;32mIn[18], line 11\u001b[0m, in \u001b[0;36m<dictcomp>\u001b[1;34m(.0)\u001b[0m\n\u001b[0;32m      3\u001b[0m cam_regex \u001b[38;5;241m=\u001b[39m \u001b[38;5;124mr\u001b[39m\u001b[38;5;124m\"\u001b[39m\u001b[38;5;124mmulticam_video_\u001b[39m\u001b[38;5;124m\\\u001b[39m\u001b[38;5;124md\u001b[39m\u001b[38;5;132;01m{4}\u001b[39;00m\u001b[38;5;124m-\u001b[39m\u001b[38;5;124m\\\u001b[39m\u001b[38;5;124md\u001b[39m\u001b[38;5;132;01m{2}\u001b[39;00m\u001b[38;5;124m-\u001b[39m\u001b[38;5;124m\\\u001b[39m\u001b[38;5;124md\u001b[39m\u001b[38;5;132;01m{2}\u001b[39;00m\u001b[38;5;124mT\u001b[39m\u001b[38;5;124m\\\u001b[39m\u001b[38;5;124md\u001b[39m\u001b[38;5;132;01m{2}\u001b[39;00m\u001b[38;5;124m_\u001b[39m\u001b[38;5;124m\\\u001b[39m\u001b[38;5;124md\u001b[39m\u001b[38;5;132;01m{2}\u001b[39;00m\u001b[38;5;124m_\u001b[39m\u001b[38;5;124m\\\u001b[39m\u001b[38;5;124md\u001b[39m\u001b[38;5;132;01m{2}\u001b[39;00m\u001b[38;5;124m_([^_]+)predictions\u001b[39m\u001b[38;5;124m\\\u001b[39m\u001b[38;5;124m.slp$\u001b[39m\u001b[38;5;124m\"\u001b[39m\n\u001b[0;32m      7\u001b[0m \u001b[38;5;66;03m#mac regex\u001b[39;00m\n\u001b[0;32m      8\u001b[0m \u001b[38;5;66;03m#cam_regex = r\"multicam_video_\\d{4}-\\d{2}-\\d{2}T\\d{2}_\\d{2}_\\d{2}_([^_]+)_predictions\\.slp$\" \u001b[39;00m\n\u001b[1;32m---> 11\u001b[0m file_path_dict \u001b[38;5;241m=\u001b[39m {\u001b[43mre\u001b[49m\u001b[38;5;241;43m.\u001b[39;49m\u001b[43msearch\u001b[49m\u001b[43m(\u001b[49m\u001b[43mcam_regex\u001b[49m\u001b[43m,\u001b[49m\u001b[43m \u001b[49m\u001b[38;5;28;43mstr\u001b[39;49m\u001b[43m(\u001b[49m\u001b[43mf\u001b[49m\u001b[38;5;241;43m.\u001b[39;49m\u001b[43mname\u001b[49m\u001b[43m)\u001b[49m\u001b[43m)\u001b[49m\u001b[38;5;241;43m.\u001b[39;49m\u001b[43mgroups\u001b[49m()[\u001b[38;5;241m0\u001b[39m]: f \u001b[38;5;28;01mfor\u001b[39;00m f \u001b[38;5;129;01min\u001b[39;00m slp_files}\n",
      "\u001b[1;31mAttributeError\u001b[0m: 'NoneType' object has no attribute 'groups'"
     ]
    }
   ],
   "source": [
    "slp_files = list(slp_files_dir.glob(\"*.slp\"))\n",
    "# Windows regex\n",
    "cam_regex = r\"multicam_video_\\d{4}-\\d{2}-\\d{2}T\\d{2}_\\d{2}_\\d{2}_([^_]+)predictions\\.slp$\"\n",
    "\n",
    "\n",
    "\n",
    "#mac regex\n",
    "#cam_regex = r\"multicam_video_\\d{4}-\\d{2}-\\d{2}T\\d{2}_\\d{2}_\\d{2}_([^_]+)_predictions\\.slp$\" \n",
    "\n",
    "\n",
    "file_path_dict = {re.search(cam_regex, str(f.name)).groups()[0]: f for f in slp_files}"
   ]
  },
  {
   "cell_type": "code",
   "execution_count": 7,
   "metadata": {},
   "outputs": [],
   "source": [
    "def load_calibration(calibration_dir: Path):\n",
    "\n",
    "\n",
    "    calibration_paths = sorted(calibration_dir.glob(\"mc_calibration_output_*\"))\n",
    "    last_calibration_path = calibration_paths[-1]\n",
    "\n",
    "    all_calib_uvs = np.load(last_calibration_path / \"all_calib_uvs.npy\")\n",
    "    calib_toml_path = last_calibration_path / \"calibration_from_mc.toml\"\n",
    "    cam_names, img_sizes, extrinsics, intrinsics = read_calibration_toml(calib_toml_path)\n",
    "\n",
    "    return cam_names, img_sizes, extrinsics, intrinsics, calib_toml_path\n",
    "\n",
    "# triangulation function\n",
    "def anipose_triangulate_ds(views_ds, calib_toml_path, **config_kwargs):\n",
    "    triang_config = config_kwargs\n",
    "    config = dict(triangulation=triang_config)\n",
    "\n",
    "    calib_fname = str(calib_toml_path)\n",
    "    cgroup = CameraGroup.load(calib_fname)\n",
    "    # read toml file and use the views to order the dimenensions of the views_ds, so thne you are sure that when you will do the back projeciton thsoe are the same order of the matrices.\n",
    "\n",
    "    individual_name = views_ds.coords[\"individuals\"][0]\n",
    "    reshaped_ds = views_ds.sel(individuals=individual_name).transpose(\"view\", \"time\", \"keypoints\", \"space\")\n",
    "    # sort over view axis using the view ordring\n",
    "    positions = reshaped_ds.position.values\n",
    "    scores = reshaped_ds.confidence.values\n",
    "\n",
    "    triang_df = triangulate_core(config, \n",
    "                 positions, \n",
    "                 scores, \n",
    "                 views_ds.coords[\"keypoints\"].values, \n",
    "                 cgroup, \n",
    "                 )\n",
    "\n",
    "    return movement_ds_from_anipose_triangulation_df(triang_df)\n",
    "\n",
    "\n",
    "\n",
    "def find_closest_calibration_dir(dir_path: Path) -> Path | None:\n",
    "    \"\"\"Find the closest calibration directory by walking up the directory tree.\"\"\"\n",
    "    reg = r\"_cropped_\"\n",
    "    current = dir_path\n",
    "    while current != current.parent:  # Stop at root directory\n",
    "        calib_dir = current / 'calibration'\n",
    "        if calib_dir.exists() and calib_dir.is_dir():\n",
    "            l = [f for f in calib_dir.iterdir()]\n",
    "            for f in l:\n",
    "                if re.search(reg, f.name):\n",
    "                    return f\n",
    "        current = current.parent\n",
    "    return None\n",
    "\n",
    "def find_dirs_with_matching_views(root_dir: Path, expected_views: set) -> list[Path]:\n",
    "    \"\"\"\n",
    "    Find directories containing exactly 5 SLP files with matching camera views.\n",
    "    \"\"\"\n",
    "    valid_dirs = []\n",
    "\n",
    "    # Windows regex\n",
    "    #cam_regex = r\"^[A-Za-z]:\\\\(?:[^\\\\]+\\\\)*multicam_video_\\d{4}-\\d{2}-\\d{2}T\\d{2}_\\d{2}_\\d{2}_([^_]+)_predictions\\.slp$\"\n",
    "    cam_regex = r\"multicam_video_\\d{4}-\\d{2}-\\d{2}T\\d{2}_\\d{2}_\\d{2}_([^_]+)predictions\\.slp$\"\n",
    "\n",
    "\n",
    "\n",
    "    #Unix regex\n",
    "    #cam_regex = r\"multicam_video_\\d{4}-\\d{2}-\\d{2}T\\d{2}_\\d{2}_\\d{2}_([^_]+)_predictions\\.slp$\"  # Updated regex\n",
    "\n",
    "    # Recursively iterate through all directories\n",
    "    for directory in root_dir.rglob('*'):\n",
    "        if not directory.is_dir():\n",
    "            continue\n",
    "        if directory.name == \"calibration\":\n",
    "            continue\n",
    "        # Get all SLP files in the current directory\n",
    "        slp_files = list(directory.glob('*.slp'))\n",
    "        \n",
    "        # Skip if not exactly 5 files\n",
    "        if len(slp_files) < 5:\n",
    "            continue\n",
    "\n",
    "        # Extract camera views from filenames\n",
    "        current_views = set()\n",
    "        for f in slp_files:\n",
    "            match = re.search(cam_regex, f.name)\n",
    "            if match:\n",
    "                camera_name = match.group(1)  # Extract camera view name\n",
    "                current_views.add(camera_name)\n",
    "            else:\n",
    "                continue\n",
    "\n",
    "        # If we found exactly 5 matching views and they match the expected views\n",
    "        if len(current_views) == 5 and current_views == expected_views:\n",
    "            valid_dirs.append(directory)\n",
    "\n",
    "    return valid_dirs\n",
    "\n",
    "def create_2d_ds(slp_files_dir: Path):\n",
    "    slp_files = list(slp_files_dir.glob(\"*.slp\"))\n",
    "    # Windows regex\n",
    "    cam_regex = r\"multicam_video_\\d{4}-\\d{2}-\\d{2}T\\d{2}_\\d{2}_\\d{2}_([^_]+)predictions\\.slp$\"\n",
    "\n",
    "\n",
    "\n",
    "    #mac regex\n",
    "    #cam_regex = r\"multicam_video_\\d{4}-\\d{2}-\\d{2}T\\d{2}_\\d{2}_\\d{2}_([^_]+)_predictions\\.slp$\" \n",
    "\n",
    "\n",
    "    file_path_dict = {re.search(cam_regex, str(f.name)).groups()[0]: f for f in slp_files}\n",
    "    # From movement.io.load_poses.from_multiview_files, split out here just to fix uppercase inconsistency bug:\n",
    "    views_list = list(file_path_dict.keys())\n",
    "    new_coord_views = xr.DataArray(views_list, dims=\"view\")\n",
    "\n",
    "    dataset_list = [\n",
    "        from_file(f, source_software=\"SLEAP\")\n",
    "        for f in file_path_dict.values()\n",
    "    ]\n",
    "    # make coordinates labels of the keypoints axis all lowercase\n",
    "    for ds in dataset_list:\n",
    "        ds.coords[\"keypoints\"] = ds.coords[\"keypoints\"].str.lower()\n",
    "\n",
    "\n",
    "    ds = xr.concat(dataset_list, dim=new_coord_views)\n",
    "\n",
    "    bodyparts = list(ds.coords[\"keypoints\"].values)\n",
    "\n",
    "    print(bodyparts)\n",
    "\n",
    "    print(ds.position.shape, ds.confidence.shape, bodyparts)\n",
    "\n",
    "    ds.attrs['fps'] = 'fps'\n",
    "    ds.attrs['source_file'] = 'sleap'\n",
    "\n",
    "    return ds\n",
    "\n",
    "\n",
    "def generate_calibration_data(calibration_dir):\n",
    "    timestamp = datetime.now().strftime(\"%Y%m%d-%H%M%S\")\n",
    "    board_shape = (5, 7)\n",
    "    square_size = 12.5\n",
    "    data_dir = calibration_dir\n",
    "    output_dir = data_dir / f\"mc_calibration_output_{timestamp}\"\n",
    "    output_dir.mkdir(exist_ok=True)\n",
    "\n",
    "    video_paths = [\n",
    "        f for f in data_dir.iterdir() if f.suffix == \".mp4\" and \"overlay\" not in f.stem\n",
    "    ]\n",
    "\n",
    "    camera_names = [p.stem.split(\"_\")[-1].split(\".avi\")[0] for p in video_paths]\n",
    "    print(camera_names)\n",
    "\n",
    "    print(\"Detecting points, if not already detected...\")\n",
    "    # detect calibration object in each video\n",
    "    all_calib_uvs, all_img_sizes = mcc.run_calibration_detection(\n",
    "        list(map(str, video_paths)),\n",
    "        mcc.detect_chessboard,\n",
    "        n_workers=6,\n",
    "        detection_options=dict(board_shape=board_shape, scale_factor=0.5),\n",
    "    )\n",
    "    np.save(output_dir / \"all_calib_uvs.npy\", all_calib_uvs)\n",
    "    # plot corner-match scores for each frame\n",
    "    fig = mcc.plot_chessboard_qc_data(video_paths)\n",
    "    fig.savefig(output_dir / \"checkerboard_errors.png\")\n",
    "\n",
    "    # optionally generate overlay videos:\n",
    "    overlay = False\n",
    "    if overlay:\n",
    "        print(\"Generating overlay videos...\")\n",
    "        for p in video_paths:\n",
    "            mcc.overlay_detections(p, overwrite=True)\n",
    "\n",
    "\n",
    "    # generate object points:\n",
    "    calib_objpoints = mcc.generate_chessboard_objpoints(board_shape, square_size)\n",
    "\n",
    "    fl.save(\n",
    "        output_dir / \"args_calibration.h5\",\n",
    "        dict(\n",
    "            all_calib_uvs=all_calib_uvs,\n",
    "            all_img_sizes=all_img_sizes,\n",
    "            calib_objpoints=calib_objpoints,\n",
    "        ),\n",
    "    )\n",
    "    # ================================\n",
    "    # Calibration\n",
    "    # ================================\n",
    "    all_extrinsics, all_intrinsics, calib_poses, spanning_tree = mcc.calibrate(\n",
    "        all_calib_uvs,\n",
    "        all_img_sizes,\n",
    "        calib_objpoints,\n",
    "        root=0,\n",
    "        n_samples_for_intrinsics=100,\n",
    "    )\n",
    "\n",
    "    fig, shared_detections = mcc.plot_shared_detections(all_calib_uvs, spanning_tree)\n",
    "    fig.savefig(output_dir / \"shared_detections.png\")\n",
    "\n",
    "    n_cameras, n_frames, N, _ = all_calib_uvs.shape\n",
    "\n",
    "    median_error = np.zeros(n_cameras)\n",
    "    reprojections = np.zeros((n_cameras, n_frames, N, 2))\n",
    "    transformed_reprojections = np.zeros((n_cameras, n_frames, N, 2)) * np.nan\n",
    "    pts = mcc.embed_calib_objpoints(calib_objpoints, calib_poses)\n",
    "\n",
    "    # ================================\n",
    "    # Residuals\n",
    "    # ================================\n",
    "    errors_list = []\n",
    "    for cam in trange(n_cameras):\n",
    "        reprojections[cam] = mcc.project_points(\n",
    "            pts, all_extrinsics[cam], all_intrinsics[cam][0]\n",
    "        )\n",
    "        uvs_undistorted = mcc.undistort_points(all_calib_uvs[cam], *all_intrinsics[cam])\n",
    "        valid_ixs = np.nonzero(~np.isnan(uvs_undistorted).any((-1, -2)))[0]\n",
    "        for t in valid_ixs:\n",
    "            H = cv2.findHomography(uvs_undistorted[t], calib_objpoints[:, :2])\n",
    "            transformed_reprojections[cam, t] = cv2.perspectiveTransform(\n",
    "                reprojections[cam, t][np.newaxis], H[0]\n",
    "            )[0]\n",
    "\n",
    "        errors = np.linalg.norm(\n",
    "            transformed_reprojections[cam, valid_ixs] - calib_objpoints[:, :2],\n",
    "            axis=-1,\n",
    "        )\n",
    "        median_error[cam] = np.median(errors)\n",
    "        errors_arr = np.zeros(n_frames) * np.nan\n",
    "        errors_arr[valid_ixs] = np.median(errors, axis=1)\n",
    "        errors_list.append(errors_arr)\n",
    "\n",
    "    f, axs = plt.subplots(len(errors_list), 1, figsize=(10, 4), sharex=True, sharey=True)\n",
    "\n",
    "    for i, errors in enumerate(errors_list):\n",
    "        axs[i].plot(errors + i * 20, c=f\"C{i}\")\n",
    "    f.savefig(output_dir / \"residuals.png\")\n",
    "\n",
    "    fig, median_error, reprojections, transformed_reprojections = mcc.plot_residuals(\n",
    "        all_calib_uvs,\n",
    "        all_extrinsics,\n",
    "        all_intrinsics,\n",
    "        calib_objpoints,\n",
    "        calib_poses,\n",
    "        inches_per_axis=3,\n",
    "    )\n",
    "    fig.savefig(output_dir / \"first_residuals.png\")\n",
    "\n",
    "\n",
    "    # ================================\n",
    "    # Bundle adjustment\n",
    "    # ================================\n",
    "    adj_extrinsics, adj_intrinsics, adj_calib_poses, use_frames, result = mcc.bundle_adjust(\n",
    "        all_calib_uvs,\n",
    "        all_extrinsics,\n",
    "        all_intrinsics,\n",
    "        calib_objpoints,\n",
    "        calib_poses,\n",
    "        n_frames=None,\n",
    "        ftol=1e-4,\n",
    "    )\n",
    "\n",
    "    nan_counts = np.isnan(all_calib_uvs).sum((0, 1, 2, 3))\n",
    "\n",
    "    fig, median_error, reprojections, transformed_reprojections = mcc.plot_residuals(\n",
    "        all_calib_uvs[:, use_frames],\n",
    "        adj_extrinsics,\n",
    "        adj_intrinsics,\n",
    "        calib_objpoints,\n",
    "        adj_calib_poses,\n",
    "        inches_per_axis=3,\n",
    "    )\n",
    "    fig.savefig(output_dir / \"refined_residuals.png\")\n",
    "\n",
    "    # Write current calibration to TOML\n",
    "    cam_names = [Path(p).stem.split(\"_\")[-1].split(\".avi\")[0] for p in video_paths]\n",
    "    write_calibration_toml(output_dir / \"calibration_from_mc.toml\", \n",
    "                        cam_names, all_img_sizes, adj_extrinsics, adj_intrinsics, result)\n"
   ]
  },
  {
   "cell_type": "code",
   "execution_count": 8,
   "metadata": {},
   "outputs": [],
   "source": [
    "data_dir = Path(r\"D:\\P05_3DRIG_YE-LP\\e01_mouse_hunting\\v04_mice-hunting\")\n",
    "expected_views = {'mirror-bottom', 'mirror-left', 'mirror-top', 'central', 'mirror-right'}\n",
    "valid_dirs = find_dirs_with_matching_views(data_dir, expected_views)\n",
    "calib_dirs = [find_closest_calibration_dir(dir) for dir in valid_dirs]\n",
    "toml_files = []\n",
    "triang_config_optim = {\n",
    "    \"ransac\": True,\n",
    "    \"optim\": True,\n",
    "    \"optim_chunking\": True,\n",
    "    \"optim_chunking_size\": 100,\n",
    "    \"score_threshold\": 0.7,\n",
    "    \"scale_smooth\": 1,\n",
    "    \"scale_length\": 3,\n",
    "    \"scale_length_weak\": 0.5,\n",
    "    \"n_deriv_smooth\": 2,\n",
    "    \"reproj_error_threshold\": 150,\n",
    "    \"constraints\": [['lear','rear'], ['nose','rear'], ['nose','lear'], ['tailbase', 'upperback']], #[str(i), str(i+1)] for i in range(len(views_ds.coords[\"keypoints\"])-1)],\n",
    "    \"constraints_weak\": [] #[str(i), str(i+1)] for i in range(len(views_ds.coords[\"keypoints\"])-1)],\n",
    "    }"
   ]
  },
  {
   "cell_type": "code",
   "execution_count": 9,
   "metadata": {},
   "outputs": [
    {
     "data": {
      "text/plain": [
       "70"
      ]
     },
     "execution_count": 9,
     "metadata": {},
     "output_type": "execute_result"
    }
   ],
   "source": [
    "len(valid_dirs)"
   ]
  },
  {
   "cell_type": "code",
   "execution_count": 70,
   "metadata": {},
   "outputs": [
    {
     "name": "stdout",
     "output_type": "stream",
     "text": [
      "['central', 'mirror-bottom', 'mirror-left', 'mirror-right', 'mirror-top']\n",
      "Detecting points, if not already detected...\n",
      "Processing D:\\P05_3DRIG_YE-LP\\e01_mouse_hunting\\v04_mice-hunting\\20240807\\calibration\\multicam_video_2024-08-07T14_55_39_cropped_20241210155931\\multicam_video_2024-08-07T14_55_39_mirror-bottom.avi.mp4\n"
     ]
    },
    {
     "name": "stderr",
     "output_type": "stream",
     "text": [
      "100%|█████████████████████████| 13099/13099 [00:42<00:00, 311.31frame/s]\n"
     ]
    },
    {
     "name": "stdout",
     "output_type": "stream",
     "text": [
      "Processing D:\\P05_3DRIG_YE-LP\\e01_mouse_hunting\\v04_mice-hunting\\20240807\\calibration\\multicam_video_2024-08-07T14_55_39_cropped_20241210155931\\multicam_video_2024-08-07T14_55_39_mirror-left.avi.mp4\n"
     ]
    },
    {
     "name": "stderr",
     "output_type": "stream",
     "text": [
      "100%|█████████████████████████| 13099/13099 [00:42<00:00, 306.15frame/s]\n"
     ]
    },
    {
     "name": "stdout",
     "output_type": "stream",
     "text": [
      "Processing D:\\P05_3DRIG_YE-LP\\e01_mouse_hunting\\v04_mice-hunting\\20240807\\calibration\\multicam_video_2024-08-07T14_55_39_cropped_20241210155931\\multicam_video_2024-08-07T14_55_39_mirror-right.avi.mp4\n"
     ]
    },
    {
     "name": "stderr",
     "output_type": "stream",
     "text": [
      "100%|█████████████████████████| 13099/13099 [00:40<00:00, 322.55frame/s]\n"
     ]
    },
    {
     "name": "stdout",
     "output_type": "stream",
     "text": [
      "Processing D:\\P05_3DRIG_YE-LP\\e01_mouse_hunting\\v04_mice-hunting\\20240807\\calibration\\multicam_video_2024-08-07T14_55_39_cropped_20241210155931\\multicam_video_2024-08-07T14_55_39_mirror-top.avi.mp4\n"
     ]
    },
    {
     "name": "stderr",
     "output_type": "stream",
     "text": [
      "100%|█████████████████████████| 13099/13099 [00:39<00:00, 332.53frame/s]\n"
     ]
    },
    {
     "name": "stdout",
     "output_type": "stream",
     "text": [
      "Estimating camera intrinsics\n"
     ]
    },
    {
     "name": "stderr",
     "output_type": "stream",
     "text": [
      "100%|████████████████████████████████████| 5/5 [11:53<00:00, 142.78s/it]\n"
     ]
    },
    {
     "name": "stdout",
     "output_type": "stream",
     "text": [
      "Initializing calibration object poses\n"
     ]
    },
    {
     "name": "stderr",
     "output_type": "stream",
     "text": [
      "100%|█████████████████████████████████████| 5/5 [00:02<00:00,  1.91it/s]\n"
     ]
    },
    {
     "name": "stdout",
     "output_type": "stream",
     "text": [
      "Estimating camera extrinsics\n",
      "Merging calibration object poses\n"
     ]
    },
    {
     "name": "stderr",
     "output_type": "stream",
     "text": [
      "100%|██████████| 5/5 [00:01<00:00,  2.66it/s]\n",
      "100%|██████████| 5/5 [00:01<00:00,  2.69it/s]\n"
     ]
    },
    {
     "name": "stdout",
     "output_type": "stream",
     "text": [
      "Excluding 343 out of 1428 frames based on an outlier threshold of 16.029011617543425\n",
      "   Iteration     Total nfev        Cost      Cost reduction    Step norm     Optimality   \n",
      "       0              1         3.9985e+05                                    1.06e+07    \n",
      "       1              7         2.8680e+05      1.13e+05       1.59e+02       1.94e+07    \n",
      "       2              8         2.5463e+05      3.22e+04       1.69e+02       1.10e+07    \n",
      "       3              9         2.2567e+05      2.90e+04       1.86e+02       1.28e+07    \n",
      "       4             10         2.2125e+05      4.43e+03       1.97e+02       7.62e+06    \n",
      "       5             11         2.0220e+05      1.90e+04       4.97e+01       7.39e+06    \n",
      "       6             12         1.8498e+05      1.72e+04       1.01e+02       8.38e+06    \n",
      "       7             13         1.8357e+05      1.41e+03       8.90e+01       6.63e+06    \n",
      "       8             14         1.7729e+05      6.28e+03       2.30e+01       6.50e+06    \n",
      "       9             15         1.6954e+05      7.74e+03       4.58e+01       6.49e+06    \n",
      "      10             16         1.6375e+05      5.79e+03       1.56e+01       5.88e+06    \n",
      "      11             17         1.5422e+05      9.53e+03       2.47e+01       5.19e+06    \n",
      "      12             18         1.3972e+05      1.45e+04       4.39e+01       3.65e+06    \n",
      "      13             19         1.2273e+05      1.70e+04       6.57e+01       1.52e+06    \n",
      "      14             20         1.0474e+05      1.80e+04       1.16e+02       5.63e+05    \n",
      "      15             21         8.6824e+04      1.79e+04       1.19e+02       3.66e+05    \n",
      "      16             22         6.9037e+04      1.78e+04       2.43e+02       2.88e+05    \n",
      "      17             23         4.8256e+04      2.08e+04       2.93e+02       6.45e+05    \n",
      "      18             25         4.1150e+04      7.11e+03       9.34e+01       1.19e+06    \n",
      "      19             26         3.9235e+04      1.92e+03       8.34e+01       8.17e+05    \n",
      "      20             27         3.5936e+04      3.30e+03       4.50e+01       2.36e+05    \n",
      "      21             29         3.4359e+04      1.58e+03       2.24e+01       2.04e+05    \n",
      "      22             32         3.4195e+04      1.65e+02       2.74e+00       2.16e+05    \n",
      "      23             33         3.4039e+04      1.56e+02       1.33e+00       2.17e+05    \n",
      "      24             34         3.3743e+04      2.96e+02       2.67e+00       2.14e+05    \n",
      "      25             35         3.3205e+04      5.38e+02       5.49e+00       2.06e+05    \n",
      "      26             36         3.2308e+04      8.97e+02       1.13e+01       1.92e+05    \n",
      "      27             37         3.1016e+04      1.29e+03       2.02e+01       1.68e+05    \n",
      "      28             38         2.9470e+04      1.55e+03       1.86e+01       1.37e+05    \n",
      "      29             39         2.7673e+04      1.80e+03       3.30e+01       1.27e+05    \n",
      "      30             40         2.6155e+04      1.52e+03       6.34e+01       1.16e+05    \n",
      "      31             41         2.5467e+04      6.88e+02       7.47e+01       1.37e+05    \n",
      "      32             42         2.4968e+04      4.99e+02       1.18e+02       3.76e+05    \n",
      "      33             44         2.4918e+04      4.93e+01       3.14e+01       6.22e+04    \n",
      "      34             45         2.4875e+04      4.31e+01       6.27e+01       1.10e+05    \n",
      "      35             46         2.4810e+04      6.52e+01       6.33e+01       1.12e+05    \n",
      "      36             48         2.4771e+04      3.86e+01       3.44e+01       5.95e+04    \n",
      "      37             49         2.4747e+04      2.40e+01       6.76e+01       9.33e+04    \n",
      "      38             50         2.4701e+04      4.59e+01       4.46e+01       5.09e+04    \n",
      "      39             51         2.4675e+04      2.65e+01       7.28e+01       9.56e+04    \n",
      "      40             52         2.4646e+04      2.85e+01       2.72e+01       1.80e+04    \n",
      "      41             53         2.4635e+04      1.18e+01       7.72e+01       1.06e+05    \n",
      "      42             54         2.4605e+04      2.94e+01       1.47e+01       5.57e+03    \n",
      "      43             55         2.4594e+04      1.16e+01       8.01e+01       1.20e+05    \n",
      "      44             56         2.4571e+04      2.31e+01       6.85e+00       2.65e+03    \n",
      "      45             57         2.4564e+04      7.00e+00       8.43e+01       1.16e+05    \n",
      "      46             58         2.4537e+04      2.65e+01       6.81e+00       2.10e+03    \n",
      "      47             59         2.4529e+04      8.40e+00       2.34e+01       9.60e+03    \n",
      "      48             60         2.4513e+04      1.60e+01       4.45e+01       3.42e+04    \n",
      "      49             61         2.4504e+04      8.67e+00       9.00e+01       1.30e+05    \n",
      "      50             62         2.4455e+04      4.86e+01       4.30e+01       6.48e+04    \n",
      "      51             63         2.4450e+04      4.99e+00       8.75e+01       2.31e+05    \n",
      "      52             64         2.4405e+04      4.53e+01       5.67e+00       9.60e+03    \n",
      "      53             65         2.4394e+04      1.13e+01       2.11e+01       1.73e+04    \n",
      "      54             66         2.4374e+04      2.01e+01       4.18e+01       8.12e+04    \n",
      "      55             67         2.4353e+04      2.07e+01       8.16e+01       3.56e+05    \n",
      "      56             68         2.4281e+04      7.18e+01       7.45e+01       4.43e+05    \n",
      "      57             70         2.4231e+04      5.02e+01       3.10e+01       1.54e+05    \n",
      "      58             71         2.4174e+04      5.67e+01       6.02e+01       5.79e+05    \n",
      "      59             73         2.4116e+04      5.81e+01       2.83e+01       1.41e+05    \n",
      "      60             74         2.4039e+04      7.73e+01       5.55e+01       5.96e+05    \n",
      "      61             76         2.3968e+04      7.07e+01       2.94e+01       1.48e+05    \n",
      "      62             77         2.3899e+04      6.91e+01       6.35e+01       5.95e+05    \n",
      "      63             78         2.3856e+04      4.31e+01       3.99e+01       3.69e+04    \n",
      "      64             80         2.3843e+04      1.35e+01       3.13e+01       4.83e+04    \n",
      "      65             81         2.3826e+04      1.68e+01       6.27e+01       6.96e+04    \n",
      "      66             82         2.3816e+04      9.68e+00       1.95e+01       2.16e+04    \n",
      "      67             83         2.3812e+04      4.32e+00       1.05e+01       7.53e+03    \n",
      "      68             84         2.3808e+04      3.95e+00       1.59e+01       9.78e+03    \n",
      "      69             85         2.3804e+04      3.74e+00       8.75e+00       3.89e+03    \n",
      "      70             86         2.3801e+04      3.00e+00       1.14e+01       8.57e+03    \n",
      "      71             87         2.3798e+04      2.73e+00       6.63e+00       2.93e+03    \n",
      "      72             88         2.3796e+04      2.38e+00       9.39e+00       8.88e+03    \n",
      "`ftol` termination condition is satisfied.\n",
      "Function evaluations 88, initial cost 3.9985e+05, final cost 2.3796e+04, first-order optimality 8.88e+03.\n"
     ]
    },
    {
     "name": "stderr",
     "output_type": "stream",
     "text": [
      "100%|██████████| 5/5 [00:00<00:00,  9.76it/s]\n"
     ]
    },
    {
     "name": "stdout",
     "output_type": "stream",
     "text": [
      "calibrations generated and loaded successfully\n"
     ]
    }
   ],
   "source": [
    "calibrations_set = list(set(calib_dirs))\n",
    "dir = calibrations_set[0]\n",
    "generate_calibration_data(Path(dir))\n",
    "\n",
    "cam_names, img_sizes, extrinsics, intrinsics, calib_toml_path = load_calibration(dir)\n",
    "toml_files.append(calib_toml_path)\n",
    "print(\"calibrations generated and loaded successfully\")"
   ]
  }
 ],
 "metadata": {
  "kernelspec": {
   "display_name": "lab-env",
   "language": "python",
   "name": "python3"
  },
  "language_info": {
   "codemirror_mode": {
    "name": "ipython",
    "version": 3
   },
   "file_extension": ".py",
   "mimetype": "text/x-python",
   "name": "python",
   "nbconvert_exporter": "python",
   "pygments_lexer": "ipython3",
   "version": "3.10.13"
  }
 },
 "nbformat": 4,
 "nbformat_minor": 2
}
