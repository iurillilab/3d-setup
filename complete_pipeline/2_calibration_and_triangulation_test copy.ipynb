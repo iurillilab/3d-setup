{
 "cells": [
  {
   "cell_type": "markdown",
   "metadata": {},
   "source": [
    "# Detect chessboard"
   ]
  },
  {
   "cell_type": "code",
   "execution_count": 1,
   "metadata": {},
   "outputs": [],
   "source": [
    "%matplotlib widget\n",
    "import matplotlib.pyplot as plt\n",
    "import numpy as np\n",
    "\n",
    "import multicam_calibration as mcc\n",
    "from pathlib import Path\n",
    "from matplotlib import pyplot as plt\n",
    "import numpy as np\n",
    "from mpl_toolkits.mplot3d import Axes3D\n",
    "from tqdm import tqdm\n",
    "import plotly.express as px\n",
    "import pickle"
   ]
  },
  {
   "cell_type": "code",
   "execution_count": null,
   "metadata": {},
   "outputs": [],
   "source": [
    "board_shape = (5, 7)\n",
    "square_size = 12.5\n",
    "\n",
    "# camera_names = ['top', 'side1', 'side2', 'side3', 'side4', 'bottom']\n",
    "# prefix = '../../tests/example_data/example_calibration'\n",
    "# data_dir = Path(\"/Users/vigji/Desktop/dest_dir/18042024\")  # /Calibration/Basler_acA1440-220um__40075240__20240418_180540771_cropped\n",
    "#data_dir = Path(\n",
    "#    r\"D:\\P05_3DRIG_YE-LP\\e01_mouse_hunting\\v04_mice-hunting\\test_cropping\\calibration_retest\\Calibration\\multicam_video_2024-08-03T16_36_58_cropped_20241111165056\"\n",
    "# )\n",
    "data_dir = Path(\"/Users/vigji/Desktop/test-anipose/cropped_calibration_vid\")\n",
    "video_paths = sorted([f for f in (data_dir.glob(\"Calibration/*/*.mp4\")) if \"overlay\" not in f.stem])[::-1]\n",
    "# camera_names = [p.stem.split(\"_\")[-1].split(\".detections\")[0] for p in video_paths]\n",
    "\n",
    "# video_paths = [str(f) for f in video_paths]\n",
    "\n",
    "\n",
    "video_paths = [\n",
    "    str(f) for f in data_dir.iterdir() if f.suffix == \".mp4\" and \"overlay\" not in f.stem\n",
    "]\n",
    "\n",
    "# detect calibration object in each video\n",
    "all_calib_uvs, all_img_sizes = mcc.run_calibration_detection(\n",
    "    video_paths,\n",
    "    mcc.detect_chessboard,\n",
    "    n_workers=6,\n",
    "    detection_options=dict(board_shape=board_shape, scale_factor=0.5),\n",
    ")\n",
    "\n",
    "# display a table with the detections shared between camera pairs\n",
    "mcc.summarize_detections(all_calib_uvs)\n",
    "\n",
    "# plot corner-match scores for each frame\n",
    "fig = mcc.plot_chessboard_qc_data(video_paths)\n",
    "\n",
    "# optionally generate overlay videos\n",
    "overlay = False\n",
    "if overlay:\n",
    "    for p in video_paths:\n",
    "        mcc.overlay_detections(p, overwrite=True)\n",
    "fig.savefig(data_dir / \"checkerboard_errors.png\")"
   ]
  },
  {
   "cell_type": "markdown",
   "metadata": {},
   "source": [
    "# Calibrate"
   ]
  },
  {
   "cell_type": "markdown",
   "metadata": {},
   "source": [
    "Check for Luigi:\n",
    "\n",
    "- all_calib_uvs matrix when is created by the calibration images\n",
    "- shape, dtype, filling values fror missed detections\n",
    "\n",
    "All params passed to the mcc.calibrate function"
   ]
  },
  {
   "cell_type": "code",
   "execution_count": null,
   "metadata": {},
   "outputs": [],
   "source": [
    "all_calib_uvs.shape"
   ]
  },
  {
   "cell_type": "markdown",
   "metadata": {},
   "source": [
    "## Initialization"
   ]
  },
  {
   "cell_type": "code",
   "execution_count": 5,
   "metadata": {},
   "outputs": [],
   "source": [
    "calib_objpoints = mcc.generate_chessboard_objpoints(board_shape, square_size)\n",
    "s = slice(None, None)\n",
    "import flammkuchen as fl\n",
    "\n",
    "fl.save(\n",
    "    r\"D:\\SNeurobiology\\Desktop\\luigidelete\\args_calibration.h5\",\n",
    "    dict(\n",
    "        all_calib_uvs=all_calib_uvs[s],\n",
    "        all_img_sizes=all_img_sizes[s],\n",
    "        calib_objpoints=calib_objpoints,\n",
    "    ),\n",
    ")"
   ]
  },
  {
   "cell_type": "code",
   "execution_count": null,
   "metadata": {},
   "outputs": [],
   "source": [
    "all_extrinsics, all_intrinsics, calib_poses, spanning_tree = mcc.calibrate(\n",
    "    all_calib_uvs[:, s, :, :],\n",
    "    all_img_sizes,\n",
    "    calib_objpoints,\n",
    "    root=0,\n",
    "    n_samples_for_intrinsics=100,\n",
    ")"
   ]
  },
  {
   "cell_type": "code",
   "execution_count": null,
   "metadata": {},
   "outputs": [],
   "source": [
    "fig, shared_detections = mcc.plot_shared_detections(all_calib_uvs, spanning_tree)\n",
    "fig.savefig(data_dir / \"shared_detections.png\")"
   ]
  },
  {
   "cell_type": "code",
   "execution_count": null,
   "metadata": {},
   "outputs": [],
   "source": [
    "valid = (\n",
    "    (~np.isnan(all_calib_uvs[1, :, 0, 0])) & (~np.isnan(all_calib_uvs[0, :, 0, 0]))\n",
    ").astype(int)\n",
    "np.sum(valid)"
   ]
  },
  {
   "cell_type": "code",
   "execution_count": null,
   "metadata": {},
   "outputs": [],
   "source": [
    "import tqdm\n",
    "import cv2\n",
    "\n",
    "n_cameras, n_frames, N, _ = all_calib_uvs.shape\n",
    "median_error = np.zeros(n_cameras)\n",
    "reprojections = np.zeros((n_cameras, n_frames, N, 2))\n",
    "transformed_reprojections = np.zeros((n_cameras, n_frames, N, 2)) * np.nan\n",
    "pts = mcc.embed_calib_objpoints(calib_objpoints, calib_poses)\n",
    "\n",
    "errors_list = []\n",
    "for cam in tqdm.trange(n_cameras):\n",
    "    reprojections[cam] = mcc.project_points(\n",
    "        pts, all_extrinsics[cam], all_intrinsics[cam][0]\n",
    "    )\n",
    "    uvs_undistorted = mcc.undistort_points(all_calib_uvs[cam], *all_intrinsics[cam])\n",
    "    valid_ixs = np.nonzero(~np.isnan(uvs_undistorted).any((-1, -2)))[0]\n",
    "    for t in valid_ixs:\n",
    "        H = cv2.findHomography(uvs_undistorted[t], calib_objpoints[:, :2])\n",
    "        transformed_reprojections[cam, t] = cv2.perspectiveTransform(\n",
    "            reprojections[cam, t][np.newaxis], H[0]\n",
    "        )[0]\n",
    "\n",
    "    errors = np.linalg.norm(\n",
    "        transformed_reprojections[cam, valid_ixs] - calib_objpoints[:, :2],\n",
    "        axis=-1,\n",
    "    )\n",
    "    median_error[cam] = np.median(errors)\n",
    "    errors_arr = np.zeros(n_frames) * np.nan\n",
    "    errors_arr[valid_ixs] = np.median(errors, axis=1)\n",
    "    errors_list.append(errors_arr)"
   ]
  },
  {
   "cell_type": "code",
   "execution_count": null,
   "metadata": {},
   "outputs": [],
   "source": [
    "f, axs = plt.subplots(len(errors_list), 1, figsize=(10, 4), sharex=True, sharey=True)\n",
    "\n",
    "for i, errors in enumerate(errors_list):\n",
    "    axs[i].plot(errors + i * 20, c=f\"C{i}\")\n",
    "# plt.plot(errors_list[0].mean(1))"
   ]
  },
  {
   "cell_type": "code",
   "execution_count": null,
   "metadata": {},
   "outputs": [],
   "source": [
    "#    cam_names=['top', 'side1', 'side2', 'side3', 'side4', 'bottom'],\n",
    "s = slice(0, None)\n",
    "fig, median_error, reprojections, transformed_reprojections = mcc.plot_residuals(\n",
    "    all_calib_uvs[:, s, :, :],\n",
    "    all_extrinsics,\n",
    "    all_intrinsics,\n",
    "    calib_objpoints,\n",
    "    calib_poses[s, :],\n",
    "    inches_per_axis=3,\n",
    ")\n",
    "fig.savefig(data_dir / \"first_residuals.png\")"
   ]
  },
  {
   "cell_type": "markdown",
   "metadata": {},
   "source": [
    "## Bundle adjustment"
   ]
  },
  {
   "cell_type": "code",
   "execution_count": null,
   "metadata": {},
   "outputs": [],
   "source": [
    "adj_extrinsics, adj_intrinsics, adj_calib_poses, use_frames, result = mcc.bundle_adjust(\n",
    "    all_calib_uvs,\n",
    "    all_extrinsics,\n",
    "    all_intrinsics,\n",
    "    calib_objpoints,\n",
    "    calib_poses,\n",
    "    n_frames=None,\n",
    "    ftol=1e-4,\n",
    ")"
   ]
  },
  {
   "cell_type": "code",
   "execution_count": 13,
   "metadata": {},
   "outputs": [],
   "source": [
    "nan_counts = np.isnan(all_calib_uvs).sum((0, 1, 2, 3))"
   ]
  },
  {
   "cell_type": "code",
   "execution_count": null,
   "metadata": {},
   "outputs": [],
   "source": [
    "fig, median_error, reprojections, transformed_reprojections = mcc.plot_residuals(\n",
    "    all_calib_uvs[:, use_frames],\n",
    "    adj_extrinsics,\n",
    "    adj_intrinsics,\n",
    "    calib_objpoints,\n",
    "    adj_calib_poses,\n",
    "    inches_per_axis=3,\n",
    ")\n",
    "fig.savefig(data_dir / \"refined_residuals.png\")"
   ]
  },
  {
   "cell_type": "code",
   "execution_count": 49,
   "metadata": {},
   "outputs": [],
   "source": [
    "# Write calibration to anipose-compatible TOML format:\n",
    "cam_names = [Path(p).stem.split(\"_\")[-1].split(\".avi\")[0] for p in video_paths]\n",
    "calibration_dict = dict()\n",
    "for i, (cam_name, img_size, extrinsic, intrinsic) in enumerate(zip(cam_names, all_img_sizes, adj_extrinsics, adj_intrinsics)):\n",
    "    cam_dict = dict(\n",
    "        name=cam_name,\n",
    "        size=img_size.tolist(),\n",
    "        matrix=intrinsic[0].tolist(),\n",
    "        distortions=extrinsic[1].tolist(),\n",
    "        rotation=extrinsic[:3].tolist(),\n",
    "        translation=extrinsic[3:].tolist()\n",
    "    )\n",
    "    calibration_dict[f\"cam_{i}\"] = cam_dict\n",
    "calibration_dict[\"metadata\"] = dict(adjusted=True, error=float(result.cost))\n",
    "\n",
    "# Convert to TOML format\n",
    "import toml\n",
    "with open(data_dir / \"calibration_from_mc.toml\", \"w\") as f:\n",
    "    toml.dump(calibration_dict, f)\n"
   ]
  },
  {
   "cell_type": "code",
   "execution_count": null,
   "metadata": {},
   "outputs": [],
   "source": [
    "def triangulate_all_keypoints(\n",
    "    calib_uvs, adj_extrinsics, adj_intrinsics, progress_bar=True\n",
    "):\n",
    "    all_triang = []\n",
    "    progbar = tqdm if progress_bar else lambda x: x\n",
    "    for i in progbar(range(calib_uvs.shape[2])):\n",
    "        all_triang.append(\n",
    "            mcc.triangulate(calib_uvs[:, :, i, :], adj_extrinsics, adj_intrinsics)\n",
    "        )\n",
    "\n",
    "    return np.array(all_triang)\n",
    "\n",
    "\n",
    "checkboard_3d = triangulate_all_keypoints(all_calib_uvs, adj_extrinsics, adj_intrinsics)\n",
    "\n",
    "non_nan_idxs = np.where(~np.isnan(checkboard_3d).any(axis=(0, 2)))[0]\n",
    "frame_idx = non_nan_idxs[0]\n",
    "checkboard_frame = checkboard_3d[:, frame_idx, :]"
   ]
  },
  {
   "cell_type": "code",
   "execution_count": null,
   "metadata": {},
   "outputs": [],
   "source": [
    "fig = plt.figure()\n",
    "ax = fig.add_subplot(projection=\"3d\")\n",
    "ax.scatter(checkboard_frame[:, 0], checkboard_frame[:, 1], checkboard_frame[:, 2])\n",
    "\n",
    "ax.set_xlabel(\"X Label\")\n",
    "ax.set_ylabel(\"Y Label\")\n",
    "ax.set_zlabel(\"Z Label\")\n",
    "plt.axis(\"equal\")\n",
    "plt.show()"
   ]
  },
  {
   "cell_type": "code",
   "execution_count": null,
   "metadata": {},
   "outputs": [],
   "source": [
    "file = r\"D:\\P05_3DRIG_YE-LP\\e01_mouse_hunting\\v04_mice-hunting\\test_cropping\\calibration_retest\\Calibration\\multicam_video_2024-08-03T16_36_58_20241111-164517.json\"\n",
    "\n",
    "import json\n",
    "\n",
    "with open(file) as f:\n",
    "    d = json.load(f)\n",
    "    print(d)\n",
    "coordinates = d[-1]\n",
    "coordinates_ars = {}\n",
    "for key, value in coordinates[\"points_coordinate\"].items():\n",
    "    coordinates_ars[key] = np.array(value)\n",
    "\n",
    "right_arr = [\n",
    "    coordinates_ars[cam] for cam in camera_sequence\n",
    "]  # [coordinates_ars['central'], coordinates_ars['mirror-bottom'], coordinates_ars['mirror-left'], coordinates_ars['mirror-right'], coordinates_ars['mirror-top']]\n",
    "right_arr = np.stack([np.expand_dims(np.array(arr), 0) for arr in right_arr], 0)\n",
    "\n",
    "arena_3d = triangulate_all_keypoints(\n",
    "    right_arr[:, :, :, [1, 0]], adj_extrinsics, adj_intrinsics\n",
    ")\n",
    "# arena_triangulation = []\n",
    "# for i in tqdm(range(8)):\n",
    "#     arena_triangulation.append(mcc.triangulate(right_arr2[:, :, i, [1, 0]], adj_extrinsics, adj_intrinsics))\n",
    "# arena_triangulation = np.array(arena_triangulation).squeeze()\n",
    "arena_frame = arena_3d[:, 0, :]"
   ]
  },
  {
   "cell_type": "code",
   "execution_count": null,
   "metadata": {},
   "outputs": [],
   "source": [
    "%matplotlib widget\n",
    "import matplotlib.pyplot as plt\n",
    "import numpy as np\n",
    "\n",
    "\n",
    "fig = plt.figure()\n",
    "ax = fig.add_subplot(projection=\"3d\")\n",
    "\n",
    "\n",
    "ax.scatter(\n",
    "    checkboard_frame[:, 0], checkboard_frame[:, 1], checkboard_frame[:, 2], c=\"b\"\n",
    ")\n",
    "ax.scatter(arena_frame[:, 0], arena_frame[:, 1], arena_frame[:, 2], c=\"r\")\n",
    "ax.set_xlabel(\"X Label\")\n",
    "ax.set_ylabel(\"Y Label\")\n",
    "ax.set_zlabel(\"Z Label\")\n",
    "plt.axis(\"equal\")\n",
    "plt.show()"
   ]
  },
  {
   "cell_type": "markdown",
   "metadata": {},
   "source": [
    "## check backprojections for frame"
   ]
  },
  {
   "cell_type": "markdown",
   "metadata": {},
   "source": [
    "Get the coordinats of the arean on the image "
   ]
  },
  {
   "cell_type": "code",
   "execution_count": 126,
   "metadata": {},
   "outputs": [],
   "source": [
    "back_projections = {}\n",
    "names = [\"central\", \"mirror-bottom\", \"mirror-left\", \"mirror-right\", \"mirror-top\"]\n",
    "for extrinsic, intrinsic in zip(adj_extrinsics, adj_intrinsics):\n",
    "    back_projections[names.pop(0)] = mcc.project_points(\n",
    "        arena_frame, extrinsic, intrinsic[0], dist_coefs=intrinsic[1]\n",
    "    )"
   ]
  },
  {
   "cell_type": "markdown",
   "metadata": {},
   "source": [
    "Get the coordinates of the checkboard on the image plane for each camera view"
   ]
  },
  {
   "cell_type": "code",
   "execution_count": null,
   "metadata": {},
   "outputs": [],
   "source": [
    "all_triang.shape"
   ]
  },
  {
   "cell_type": "code",
   "execution_count": 129,
   "metadata": {},
   "outputs": [],
   "source": [
    "names = [\"central\", \"mirror-bottom\", \"mirror-left\", \"mirror-right\", \"mirror-top\"]\n",
    "checkboard_back_projections = {}\n",
    "\n",
    "for extrinsic, intrinsic in zip(adj_extrinsics, adj_intrinsics):\n",
    "    checkboard_back_projections[names.pop(0)] = mcc.project_points(\n",
    "        checkboard_frame, extrinsic, intrinsic[0], dist_coefs=intrinsic[1]\n",
    "    )"
   ]
  },
  {
   "cell_type": "code",
   "execution_count": 130,
   "metadata": {},
   "outputs": [],
   "source": [
    "# get the same frame from all the videos:\n",
    "import cv2\n",
    "\n",
    "idx = frame_idx\n",
    "frames = {}\n",
    "names = [\"central\", \"mirror-bottom\", \"mirror-left\", \"mirror-right\", \"mirror-top\"]\n",
    "for frame, name in zip(video_paths, names):\n",
    "    cap = cv2.VideoCapture(str(frame))\n",
    "    cap.set(cv2.CAP_PROP_POS_FRAMES, idx)\n",
    "    res, frame = cap.read()\n",
    "    frames[name] = frame"
   ]
  },
  {
   "cell_type": "code",
   "execution_count": null,
   "metadata": {},
   "outputs": [],
   "source": [
    "plt.figure(figsize=(10, 10))\n",
    "\n",
    "for i, view in enumerate(camera_sequence):\n",
    "    plt.subplot(2, 3, i + 1)\n",
    "    plt.imshow(frames[view], cmap=\"gray\")\n",
    "    plt.scatter(back_projections[view][:, 0], back_projections[view][:, 1], c=\"r\", s=10)\n",
    "    plt.scatter(\n",
    "        checkboard_back_projections[view][:, 0],\n",
    "        checkboard_back_projections[view][:, 1],\n",
    "        c=\"b\",\n",
    "        s=10,\n",
    "    )\n",
    "    plt.title(view)\n",
    "\n",
    "plt.show()"
   ]
  },
  {
   "cell_type": "markdown",
   "metadata": {},
   "source": [
    "Backprojections without dist_coef"
   ]
  },
  {
   "cell_type": "code",
   "execution_count": 71,
   "metadata": {},
   "outputs": [],
   "source": [
    "back_projections_nodist = {}\n",
    "names = [\"central\", \"mirror-bottom\", \"mirror-left\", \"mirror-right\", \"mirror-top\"]\n",
    "for extrinsic, intrinsic in zip(adj_extrinsics, adj_intrinsics):\n",
    "    back_projections_nodist[names.pop(0)] = mcc.project_points(\n",
    "        arena_triangulation, extrinsic, intrinsic[0], dist_coefs=None\n",
    "    )"
   ]
  },
  {
   "cell_type": "code",
   "execution_count": 72,
   "metadata": {},
   "outputs": [],
   "source": [
    "names = [\"central\", \"mirror-bottom\", \"mirror-left\", \"mirror-right\", \"mirror-top\"]\n",
    "checkboard_back_projections_nodist = {}\n",
    "\n",
    "for extrinsic, intrinsic in zip(adj_extrinsics, adj_intrinsics):\n",
    "    checkboard_back_projections_nodist[names.pop(0)] = mcc.project_points(\n",
    "        checkboard_3d, extrinsic, intrinsic[0], dist_coefs=None\n",
    "    )"
   ]
  },
  {
   "cell_type": "markdown",
   "metadata": {},
   "source": [
    "## plot tracked points and arean together"
   ]
  },
  {
   "cell_type": "code",
   "execution_count": 135,
   "metadata": {},
   "outputs": [],
   "source": [
    "with open(\n",
    "    r\"C:\\Users\\SNeurobiology\\code\\3d-setup\\notebooks\\tracked_points_sample.pkl\", \"rb\"\n",
    ") as f:\n",
    "    tracked_points = pickle.load(f)"
   ]
  },
  {
   "cell_type": "code",
   "execution_count": null,
   "metadata": {},
   "outputs": [],
   "source": [
    "tracked_points_3d = triangulate_all_keypoints(\n",
    "    tracked_points, adj_extrinsics, adj_intrinsics\n",
    ")"
   ]
  },
  {
   "cell_type": "code",
   "execution_count": null,
   "metadata": {},
   "outputs": [],
   "source": [
    "tracked_points_3d.shape"
   ]
  },
  {
   "cell_type": "code",
   "execution_count": 139,
   "metadata": {},
   "outputs": [],
   "source": [
    "tracked_points_idx = 18966\n",
    "tracked_points_3d_frame = tracked_points_3d[:, tracked_points_idx, :]"
   ]
  },
  {
   "cell_type": "code",
   "execution_count": null,
   "metadata": {},
   "outputs": [],
   "source": [
    "fig = plt.figure()\n",
    "ax = fig.add_subplot(projection=\"3d\")\n",
    "\n",
    "ax.scatter(\n",
    "    tracked_points_3d_frame[:, 0],\n",
    "    tracked_points_3d_frame[:, 1],\n",
    "    tracked_points_3d_frame[:, 2],\n",
    "    c=\"b\",\n",
    ")\n",
    "ax.scatter(arena_frame[:, 0], arena_frame[:, 1], arena_frame[:, 2], c=\"r\")\n",
    "ax.set_xlabel(\"X Label\")\n",
    "ax.set_ylabel(\"Y Label\")\n",
    "ax.set_zlabel(\"Z Label\")\n",
    "plt.axis(\"equal\")\n",
    "plt.show()"
   ]
  },
  {
   "cell_type": "code",
   "execution_count": null,
   "metadata": {},
   "outputs": [],
   "source": [
    "all_calib_uvs.shape"
   ]
  },
  {
   "cell_type": "code",
   "execution_count": 188,
   "metadata": {},
   "outputs": [],
   "source": [
    "# save arena_points, tracked_points for testing\n",
    "data = {\n",
    "    \"arena_coordinates\": right_arr,\n",
    "    \"tracked_points\": tracked_points[:, :200, :, :],\n",
    "    \"checkboard_points\": all_calib_uvs[:, :200, :, :],\n",
    "}\n",
    "calib_data = {\n",
    "    \"points\": data,\n",
    "    \"extrinsics\": adj_extrinsics,\n",
    "    \"intrinsics\": adj_intrinsics,\n",
    "}\n",
    "pickle.dump(calib_data, open(r\"../tests/assets/arena_tracked_points.pkl\", \"wb\"))"
   ]
  },
  {
   "cell_type": "markdown",
   "metadata": {},
   "source": [
    "## try scripts functions:"
   ]
  },
  {
   "cell_type": "code",
   "execution_count": 172,
   "metadata": {},
   "outputs": [],
   "source": [
    "import os\n",
    "import sys\n",
    "\n",
    "sys.path.append(\"../threed_utils\")"
   ]
  },
  {
   "cell_type": "code",
   "execution_count": 180,
   "metadata": {},
   "outputs": [],
   "source": [
    "from triangulation import triangulate_all_keypoints, back_project_points\n",
    "from visualization import plot_triangulations, plot_back_projections"
   ]
  },
  {
   "cell_type": "code",
   "execution_count": null,
   "metadata": {},
   "outputs": [],
   "source": [
    "# get triangulations\n",
    "arena_test_triang = triangulate_all_keypoints(right_arr, adj_extrinsics, adj_intrinsics)"
   ]
  },
  {
   "cell_type": "code",
   "execution_count": null,
   "metadata": {},
   "outputs": [],
   "source": [
    "arena_test_triang.shape"
   ]
  },
  {
   "cell_type": "code",
   "execution_count": null,
   "metadata": {},
   "outputs": [],
   "source": [
    "back_projection_test = back_project_points(\n",
    "    arena_test_triang, adj_extrinsics, adj_intrinsics, camera_sequence\n",
    ")"
   ]
  },
  {
   "cell_type": "markdown",
   "metadata": {},
   "source": [
    "## function to back-project triangulation"
   ]
  },
  {
   "cell_type": "code",
   "execution_count": null,
   "metadata": {},
   "outputs": [],
   "source": []
  },
  {
   "cell_type": "markdown",
   "metadata": {},
   "source": [
    "# Visualisation"
   ]
  },
  {
   "cell_type": "code",
   "execution_count": 2,
   "metadata": {},
   "outputs": [],
   "source": [
    "import plotly.graph_objects as go\n",
    "from IPython.display import display, clear_output\n",
    "import time"
   ]
  },
  {
   "cell_type": "code",
   "execution_count": 3,
   "metadata": {},
   "outputs": [],
   "source": [
    "with open('../tests/assets/arena_tracked_points.pkl', 'rb') as f:\n",
    "    data = pickle.load(f)"
   ]
  },
  {
   "cell_type": "code",
   "execution_count": 5,
   "metadata": {},
   "outputs": [],
   "source": [
    "tracked_3d_sample = data['points']['tracked_points']"
   ]
  },
  {
   "cell_type": "code",
   "execution_count": null,
   "metadata": {},
   "outputs": [],
   "source": [
    "tracked_3d_sample.shape"
   ]
  },
  {
   "cell_type": "code",
   "execution_count": 14,
   "metadata": {},
   "outputs": [],
   "source": [
    "arena_frame = data['points']['arena_coordinates']"
   ]
  },
  {
   "cell_type": "code",
   "execution_count": 60,
   "metadata": {},
   "outputs": [],
   "source": [
    "# define skeleton: define the connections between the lower part and the top part\n",
    "\n",
    "skeleton = [(0, 1), (0, 2), (5, 3), (5, 4), (8, 6), (8, 7), (10, 11), (11, 12), (12, 9), (1, 10), (2, 10), (10, 5), (8, 12)]"
   ]
  },
  {
   "cell_type": "code",
   "execution_count": 76,
   "metadata": {},
   "outputs": [],
   "source": [
    "def plot_single_frame(pose, skeleton, arena):\n",
    "    fig = go.Figure()\n",
    "\n",
    "    fig.add_traces(go.Scatter3d(\n",
    "        x=pose[:, 0], y=pose[:, 1], z=pose[:, 2], mode='markers', marker=dict(size=5, color='blue'), name='tracked points'\n",
    "    ))\n",
    "    skeleton_color = 'gray'\n",
    "    for start, finish in skeleton:\n",
    "        fig.add_traces(go.Scatter3d(\n",
    "            x=[pose[start, 0], pose[finish, 0]], y=[pose[start, 1], pose[finish, 1]], z=[pose[start, 2], pose[finish, 2]], mode='lines', line=dict(width=2, color=skeleton_color) ,  name='skeleton'\n",
    "        ))\n",
    "\n",
    "    fig.add_traces(go.Mesh3d(\n",
    "        x = arena[:, 0], y = arena[:, 1], z = arena[:, 2], color='lightpink', opacity=0.5, name='arena', alphahull=0\n",
    "    ))\n",
    "\n",
    "    # fig.update_layout(scene=dict(\n",
    "    #     xaxis=dict(nticks=4, range=[-1, 4], title='X'),\n",
    "    #     yaxis=dict(nticks=4, range=[-1, 4], title='Y'),\n",
    "    #     zaxis=dict(nticks=4, range=[-1, 4], title='Z'),\n",
    "    # ))\n",
    "    fig.update_layout(margin=dict(r=0, l=0, b=0, t=0))\n",
    "    return fig \n",
    "\n",
    "\n"
   ]
  },
  {
   "cell_type": "code",
   "execution_count": null,
   "metadata": {},
   "outputs": [],
   "source": [
    "arena_frame.shape"
   ]
  },
  {
   "cell_type": "code",
   "execution_count": 17,
   "metadata": {},
   "outputs": [],
   "source": [
    "adj_extrinsics = data['extrinsics']\n",
    "adj_intrinsics = data['intrinsics']"
   ]
  },
  {
   "cell_type": "code",
   "execution_count": null,
   "metadata": {},
   "outputs": [],
   "source": [
    "from threed_utils.triangulation import triangulate_all_keypoints\n",
    "\n",
    "arena_triangulation = triangulate_all_keypoints(arena_frame[:, :, :, [1, 0]], adj_extrinsics, adj_intrinsics)"
   ]
  },
  {
   "cell_type": "code",
   "execution_count": null,
   "metadata": {},
   "outputs": [],
   "source": [
    "tracked_points_sample = triangulate_all_keypoints(tracked_3d_sample, adj_extrinsics, adj_intrinsics)"
   ]
  },
  {
   "cell_type": "code",
   "execution_count": null,
   "metadata": {},
   "outputs": [],
   "source": [
    "arena_triangulation.shape"
   ]
  },
  {
   "cell_type": "code",
   "execution_count": null,
   "metadata": {},
   "outputs": [],
   "source": [
    "fig = plot_single_frame(tracked_points_sample[:, 20, :], skeleton, arena_triangulation.squeeze())\n",
    "fig.show()\n"
   ]
  },
  {
   "cell_type": "code",
   "execution_count": 79,
   "metadata": {},
   "outputs": [],
   "source": [
    "for i in [20, 40, 60, 100, 150, 196]:\n",
    "    fig = plot_single_frame(tracked_points_sample[:, i, :], skeleton, arena_triangulation.squeeze())\n",
    "    fig.write_html('tracked_points_sample_frame{i}.html'.format(i=i))"
   ]
  },
  {
   "cell_type": "code",
   "execution_count": 47,
   "metadata": {},
   "outputs": [],
   "source": [
    "import ipywidgets as widgets\n",
    "import threading\n",
    "import asyncio\n"
   ]
  },
  {
   "cell_type": "code",
   "execution_count": null,
   "metadata": {},
   "outputs": [],
   "source": [
    "tracked_points_sample.shape"
   ]
  },
  {
   "cell_type": "code",
   "execution_count": null,
   "metadata": {},
   "outputs": [],
   "source": [
    "def plot_single_frame(pose, skeleton, arena):\n",
    "    fig = go.Figure()\n",
    "\n",
    "    fig.add_traces(go.Scatter3d(\n",
    "        x=pose[:, 0], y=pose[:, 1], z=pose[:, 2], mode='markers', marker=dict(size=5, color='blue'), name='tracked points'\n",
    "    ))\n",
    "    skeleton_color = 'gray'\n",
    "    for start, finish in skeleton:\n",
    "        fig.add_traces(go.Scatter3d(\n",
    "            x=[pose[start, 0], pose[finish, 0]], y=[pose[start, 1], pose[finish, 1]], z=[pose[start, 2], pose[finish, 2]], mode='lines', line=dict(width=2, color=skeleton_color) ,  name='skeleton'\n",
    "        ))\n",
    "\n",
    "    fig.add_traces(go.Mesh3d(\n",
    "        x = arena[:, 0], y = arena[:, 1], z = arena[:, 2], color='lightpink', opacity=0.5, name='arena', alphahull=0\n",
    "    ))\n",
    "\n",
    "    # fig.update_layout(scene=dict(\n",
    "    #     xaxis=dict(nticks=4, range=[-1, 4], title='X'),\n",
    "    #     yaxis=dict(nticks=4, range=[-1, 4], title='Y'),\n",
    "    #     zaxis=dict(nticks=4, range=[-1, 4], title='Z'),\n",
    "    # ))\n",
    "    fig.update_layout(margin=dict(r=0, l=0, b=0, t=0))\n",
    "    return fig\n",
    "\n",
    "\n",
    "\n",
    "frame_slider = widgets.IntSlider(min=0, max=tracked_points_sample.shape[1] - 1, step=1, value=0, descroption='Frame')\n",
    "play_button = widgets.ToggleButton(value=False, description='Play', icon='play')\n",
    "\n",
    "is_playing = False\n",
    "\n",
    "def update_plot(change):\n",
    "    frame = frame_slider.value\n",
    "    fig = plot_single_frame(tracked_points_sample[:, frame, :], skeleton, arena_triangulation.squeeze())\n",
    "    clear_output(wait=True)\n",
    "    display(frame_slider, play_button)\n",
    "    fig.show()\n",
    "\n",
    "\n",
    "async def play_frames():\n",
    "    while play_button.value and frame_slider.value < tracked_points_sample.shape[1] -1:\n",
    "        frame_slider.value += 1\n",
    "        await asyncio.sleep(1.5)\n",
    "\n",
    "# def play_frames():\n",
    "#     global is_playing\n",
    "#     while is_playing and frame_slider.value < tracked_points_sample.shape[1] -1:\n",
    "#         frame_slider.value += 1\n",
    "#         time.sleep(0.2)\n",
    "#     is_playing = False\n",
    "#     play_button.value = False\n",
    "\n",
    "def toggle_play(change):\n",
    "    if change['new']:\n",
    "        asyncio.create_task(play_frames())\n",
    "    else:\n",
    "        play_button.value = False\n",
    "\n",
    "\n",
    "# def toggle_play(change):\n",
    "#     global is_playing\n",
    "#     if change['new']:\n",
    "#         play_thread = threading.Thread(target=play_frames)\n",
    "#         play_thread.start()\n",
    "#     else:\n",
    "#         is_playing = False\n",
    "\n",
    "\n",
    "frame_slider.observe(update_plot, names='value')\n",
    "play_button.observe(toggle_play, names='value')\n",
    "\n",
    "display(frame_slider, play_button)\n",
    "update_plot(None)\n",
    "\n"
   ]
  },
  {
   "cell_type": "code",
   "execution_count": null,
   "metadata": {},
   "outputs": [],
   "source": [
    "# plotly animators:\n",
    "animato_frames = []\n",
    "\n",
    "\n",
    "\n",
    "\n",
    "\n",
    "for frame_idx in range(tracked_points_sample.shape[1]):\n",
    "\n",
    "    scatter = go.Scatter3d(\n",
    "        x=tracked_points_sample[:, frame_idx, 0], y=tracked_points_sample[:, frame_idx, 1], z=tracked_points_sample[:, frame_idx, 2],\n",
    "        mode='markers', marker=dict(size=5, color='blue'), name='tracked points'\n",
    "    )\n",
    "\n",
    "    lines = []\n",
    "    for start, finish in skeleton:\n",
    "        lines.append(go.Scatter3d(\n",
    "            x=[tracked_points_sample[start, frame_idx, 0], tracked_points_sample[finish, frame_idx, 0]],\n",
    "            y=[tracked_points_sample[start, frame_idx, 1], tracked_points_sample[finish, frame_idx, 1]],\n",
    "            z=[tracked_points_sample[start, frame_idx, 2], tracked_points_sample[finish, frame_idx, 2]],\n",
    "            mode='lines', line=dict(width=2, color='gray'), name='skeleton'\n",
    "        ))\n",
    "\n",
    "    arena_mesh = go.Mesh3d(\n",
    "    x = arena_triangulation.squeeze()[:, 0], y = arena_triangulation.squeeze()[:, 1], z = arena_triangulation.squeeze()[:, 2], color='lightpink', opacity=0.5, name='arena', alphahull=0\n",
    ")\n",
    "\n",
    "    animato_frames.append(go.Frame(data=[scatter, arena_mesh] + lines, name = str(frame_idx)))\n",
    "\n",
    "fig = go.Figure(data=[animato_frames[0].data[0], animato_frames[0].data[1]] + list(animato_frames[0].data[2:]))\n",
    "\n",
    "\n",
    "# fig.add_trace(animato_frames[0].data[0])\n",
    "# for line in animato_frames[0].data[1:]:\n",
    "#     fig.add_trace(line)\n",
    "\n",
    "\n",
    "\n",
    "fig.update_layout(\n",
    "    updatemenus=[dict(\n",
    "        type='buttons',\n",
    "        showactive=False,\n",
    "        buttons=[dict(label='Play',\n",
    "                      method='animate',\n",
    "                      args = [None, {'frame':{'duration':200, 'redraw':True},\n",
    "                                     'fromcurrent':True, 'mode':'immediate'}]),\n",
    "                                     dict(label='pause', \n",
    "                                          method='animate',\n",
    "                                          args=[None, {'frame':{'duration':0, 'redraw':True},\n",
    "                                                       'mode':'immediate'}])]\n",
    "    )])\n",
    "\n",
    "fig.frames = animato_frames\n",
    "fig.show()\n",
    "\n"
   ]
  },
  {
   "cell_type": "markdown",
   "metadata": {},
   "source": [
    "# Save results"
   ]
  },
  {
   "cell_type": "code",
   "execution_count": 15,
   "metadata": {},
   "outputs": [],
   "source": [
    "# save for JARVIS\n",
    "camera_names = [\"bottom\", \"side1\", \"side2\", \"side3\", \"side4\"]\n",
    "video_dir = data_dir / \"calibration_vals\"\n",
    "save_path = f\"{video_dir}/CalibrationParameters/\"\n",
    "mcc.save_calibration(\n",
    "    all_extrinsics, all_intrinsics, camera_names, save_path, save_format=\"jarvis\"\n",
    ")\n",
    "\n",
    "# save for GIMBAL\n",
    "save_path = f\"{video_dir}/camera_params.h5\"\n",
    "mcc.save_calibration(\n",
    "    all_extrinsics, all_intrinsics, camera_names, save_path, save_format=\"gimbal\"\n",
    ")\n",
    "# save for GIMBAL\n",
    "save_path = f\"{video_dir}/camera_params_adj.h5\"\n",
    "mcc.save_calibration(\n",
    "    adj_extrinsics, adj_intrinsics, camera_names, save_path, save_format=\"gimbal\"\n",
    ")"
   ]
  },
  {
   "cell_type": "code",
   "execution_count": 5,
   "metadata": {},
   "outputs": [],
   "source": [
    "save_path = r\"D:\\P05_3DRIG_YE-LP\\e01_mouse_hunting\\v04_mice-hunting\\20240801\\Calibration\\multicam_video_2024-08-01T18_03_33_cropped_20240923170906\\calibration_vals\\camera_params_adj.h5\""
   ]
  },
  {
   "cell_type": "markdown",
   "metadata": {},
   "source": [
    "## Triangulation"
   ]
  },
  {
   "cell_type": "code",
   "execution_count": 6,
   "metadata": {},
   "outputs": [],
   "source": [
    "data = mcc.load_calibration(save_path, load_format=\"gimbal\")"
   ]
  },
  {
   "cell_type": "code",
   "execution_count": 7,
   "metadata": {},
   "outputs": [],
   "source": [
    "all_extrinsics, all_intrinsics, camera_names = data"
   ]
  },
  {
   "cell_type": "code",
   "execution_count": null,
   "metadata": {},
   "outputs": [],
   "source": [
    "[all_intrinsic[1] for all_intrinsic in all_intrinsics]"
   ]
  },
  {
   "cell_type": "code",
   "execution_count": 146,
   "metadata": {},
   "outputs": [],
   "source": [
    "import pickle\n",
    "\n",
    "with open(\n",
    "    r\"C:\\Users\\SNeurobiology\\code\\3d-setup\\notebooks\\tracked_points_sample.pkl\", \"rb\"\n",
    ") as f:\n",
    "    tracked_points = pickle.load(f)"
   ]
  },
  {
   "cell_type": "code",
   "execution_count": null,
   "metadata": {},
   "outputs": [],
   "source": [
    "tracked_points.shape"
   ]
  },
  {
   "cell_type": "code",
   "execution_count": null,
   "metadata": {},
   "outputs": [],
   "source": [
    "all_extrinsics, all_intrinsics = np.array(all_extrinsics), np.array(all_intrinsics)"
   ]
  },
  {
   "cell_type": "code",
   "execution_count": null,
   "metadata": {},
   "outputs": [],
   "source": [
    "(adj_extrinsics * 1000).astype(int)"
   ]
  },
  {
   "cell_type": "code",
   "execution_count": null,
   "metadata": {},
   "outputs": [],
   "source": [
    "(all_extrinsics * 1000).astype(int)"
   ]
  },
  {
   "cell_type": "code",
   "execution_count": null,
   "metadata": {},
   "outputs": [],
   "source": [
    "# triangulation:\n",
    "i = 18966\n",
    "point_01 = tracked_points[:, i : i + 1, ...]\n",
    "point_01.shape"
   ]
  },
  {
   "cell_type": "code",
   "execution_count": null,
   "metadata": {},
   "outputs": [],
   "source": [
    "# concatenated_arr = [np.expand_dims(np.array(arr), 0) for arr in point_01]\n",
    "# right_arr = np.stack(concatenated_arr, axis=0)\n",
    "\n",
    "all_triang = []\n",
    "for i in tqdm(range(tracked_points.shape[2])):\n",
    "    all_triang.append(\n",
    "        mcc.triangulate(point_01[:, :, i, [1, 0]], all_extrinsics, all_intrinsics)\n",
    "    )\n",
    "all_triang = np.array(all_triang)\n",
    "data = all_triang\n",
    "data = data.reshape(13, 3)"
   ]
  },
  {
   "cell_type": "code",
   "execution_count": null,
   "metadata": {},
   "outputs": [],
   "source": [
    "postural_names = [\n",
    "    \"nose\",\n",
    "    \"Lear\",\n",
    "    \"Rear\",\n",
    "    \"LFlimb\",\n",
    "    \"RFlimb\",\n",
    "    \"FLimbMid\",\n",
    "    \"LBlimb\",\n",
    "    \"RBlimb\",\n",
    "    \"BLimbMid\",\n",
    "    \"tailbase\",\n",
    "    \"UpperForward\",\n",
    "    \"UpperMid\",\n",
    "    \"UpperBack\",\n",
    "]\n",
    "\n",
    "\n",
    "fig = plt.figure(figsize=(18, 14))\n",
    "ax = fig.add_subplot(111, projection=\"3d\")\n",
    "\n",
    "ax.scatter(\n",
    "    arena_triangulation[:, 0],\n",
    "    arena_triangulation[:, 1],\n",
    "    arena_triangulation[:, 2],\n",
    "    c=\"blue\",\n",
    "    marker=\"o\",\n",
    "    label=\"arena\",\n",
    "    s=10,\n",
    ")\n",
    "\n",
    "\n",
    "ax.scatter(\n",
    "    data[:, 0], data[:, 1], data[:, 2], c=\"red\", marker=\"^\", label=\"triangulated\", s=10\n",
    ")\n",
    "\n",
    "for i, name in enumerate(postural_names):\n",
    "    ax.text(data[i, 0], data[i, 1], data[i, 2], name, color=\"black\", fontsize=8)\n",
    "\n",
    "ax.set_xlabel(\"X Label\")\n",
    "ax.set_ylabel(\"Y Label\")\n",
    "ax.set_zlabel(\"Z Label\")\n",
    "ax.legend()\n",
    "\n",
    "plt.show()"
   ]
  },
  {
   "cell_type": "code",
   "execution_count": null,
   "metadata": {},
   "outputs": [],
   "source": [
    "def set_axes_equal(ax):\n",
    "    \"\"\"\n",
    "    Make axes of 3D plot have equal scale so that spheres appear as spheres,\n",
    "    cubes as cubes, etc.\n",
    "\n",
    "    Input\n",
    "      ax: a matplotlib axis, e.g., as output from plt.gca().\n",
    "    \"\"\"\n",
    "\n",
    "    x_limits = ax.get_xlim3d()\n",
    "    y_limits = ax.get_ylim3d()\n",
    "    z_limits = ax.get_zlim3d()\n",
    "\n",
    "    x_range = abs(x_limits[1] - x_limits[0])\n",
    "    x_middle = np.mean(x_limits)\n",
    "    y_range = abs(y_limits[1] - y_limits[0])\n",
    "    y_middle = np.mean(y_limits)\n",
    "    z_range = abs(z_limits[1] - z_limits[0])\n",
    "    z_middle = np.mean(z_limits)\n",
    "\n",
    "    # The plot bounding box is a sphere in the sense of the infinity\n",
    "    # norm, hence I call half the max range the plot radius.\n",
    "    plot_radius = 0.5 * max([x_range, y_range, z_range])\n",
    "\n",
    "    ax.set_xlim3d([x_middle - plot_radius, x_middle + plot_radius])\n",
    "    ax.set_ylim3d([y_middle - plot_radius, y_middle + plot_radius])\n",
    "    ax.set_zlim3d([z_middle - plot_radius, z_middle + plot_radius])\n",
    "\n",
    "\n",
    "fig = plt.figure()\n",
    "ax = fig.add_subplot(projection=\"3d\")\n",
    "for i in range(10):\n",
    "    off = 8000 + i * 10\n",
    "    ax.scatter(all_triang[:, off, 0], all_triang[:, off, 1], all_triang[:, off, 2])\n",
    "# ax.scatter(all_triang[:, ::100, 0].flatten(),\n",
    "#            all_triang[:, ::100, 1].flatten(),\n",
    "#            all_triang[:, ::100, 2].flatten() )\n",
    "set_axes_equal(ax)"
   ]
  },
  {
   "cell_type": "markdown",
   "metadata": {},
   "source": [
    "## Check arean coordinates, plot arena 3d, sanaty check"
   ]
  },
  {
   "cell_type": "code",
   "execution_count": null,
   "metadata": {},
   "outputs": [],
   "source": [
    "file = r\"D:\\P05_3DRIG_YE-LP\\e01_mouse_hunting\\v04_mice-hunting\\test_cropping\\calibration_retest\\Calibration\\multicam_video_2024-08-03T16_36_58_20241108-143350.json\"\n",
    "\n",
    "import json\n",
    "\n",
    "with open(file) as f:\n",
    "    d = json.load(f)\n",
    "    print(d)\n",
    "coordinates = d[-1]\n",
    "coordinates_ars = {}\n",
    "for key, value in coordinates[\"points_coordinate\"].items():\n",
    "    coordinates_ars[key] = np.array(value)\n",
    "\n",
    "all_arr = list(coordinates[\"points_coordinate\"].values())\n",
    "concatenated_arr = [np.expand_dims(np.array(arr), 0) for arr in all_arr]\n",
    "right_arr = np.stack(concatenated_arr, axis=0)\n",
    "\n",
    "arena_triangulation = []\n",
    "for i in tqdm(range(8)):\n",
    "    arena_triangulation.append(\n",
    "        mcc.triangulate(right_arr[:, :, i, [1, 0]], all_extrinsics, all_intrinsics)\n",
    "    )\n",
    "arena_triangulation = np.array(arena_triangulation).squeeze()"
   ]
  },
  {
   "cell_type": "code",
   "execution_count": 223,
   "metadata": {},
   "outputs": [],
   "source": [
    "coordinates = d[-1]"
   ]
  },
  {
   "cell_type": "markdown",
   "metadata": {},
   "source": [
    "### check points arena over frames"
   ]
  },
  {
   "cell_type": "code",
   "execution_count": 86,
   "metadata": {},
   "outputs": [],
   "source": [
    "coordinates_views = coordinates[\"points_coordinate\"]\n",
    "\n",
    "for key, value in coordinates_views.items():\n",
    "    coordinates_views[key] = np.array(value)"
   ]
  },
  {
   "cell_type": "code",
   "execution_count": null,
   "metadata": {},
   "outputs": [],
   "source": [
    "coordinates_views[\"central\"][:, 0].shape"
   ]
  },
  {
   "cell_type": "code",
   "execution_count": 88,
   "metadata": {},
   "outputs": [],
   "source": [
    "import os\n",
    "import sys\n",
    "\n",
    "sys.path.append(\"../complete_pipeline\")\n",
    "from utils import read_first_frame"
   ]
  },
  {
   "cell_type": "code",
   "execution_count": 96,
   "metadata": {},
   "outputs": [],
   "source": [
    "# display each coordinate on the cropped image,\n",
    "import cv2\n",
    "import matplotlib.pyplot as plt\n",
    "from pathlib import Path\n",
    "\n",
    "\n",
    "dir_path = Path(\n",
    "    r\"D:\\P05_3DRIG_YE-LP\\e01_mouse_hunting\\v04_mice-hunting\\test_cropping\\calibration_retest\\Calibration\\multicam_video_2024-08-03T16_36_58_cropped_20241108143758_recal\"\n",
    ")\n",
    "first_frames = {}\n",
    "names = [\"central\", \"bottom\", \"left\", \"right\", \"top\"]\n",
    "a = -1\n",
    "for i in dir_path.iterdir():\n",
    "    if i.suffix == \".mp4\":\n",
    "        a += 1\n",
    "\n",
    "        video_path = i\n",
    "        first_frames[names[a]] = read_first_frame(str(video_path))"
   ]
  },
  {
   "cell_type": "code",
   "execution_count": 97,
   "metadata": {},
   "outputs": [],
   "source": [
    "first_frames_n = {}\n",
    "for value, key in zip(first_frames.values(), coordinates_views.keys()):\n",
    "    first_frames_n[key] = value"
   ]
  },
  {
   "cell_type": "code",
   "execution_count": null,
   "metadata": {},
   "outputs": [],
   "source": [
    "first_frames_n.keys()"
   ]
  },
  {
   "cell_type": "code",
   "execution_count": null,
   "metadata": {},
   "outputs": [],
   "source": [
    "coordinates_views.keys()"
   ]
  },
  {
   "cell_type": "code",
   "execution_count": null,
   "metadata": {},
   "outputs": [],
   "source": [
    "plt.clf()"
   ]
  },
  {
   "cell_type": "code",
   "execution_count": null,
   "metadata": {},
   "outputs": [],
   "source": [
    "plt.figure(figsize=(10, 10))\n",
    "\n",
    "plt.subplot(3, 2, 1)\n",
    "plt.imshow(first_frames_n[\"central\"], cmap=\"gray\")\n",
    "plt.scatter(\n",
    "    coordinates_views[\"central\"][:, 1], coordinates_views[\"central\"][:, 0], c=\"r\", s=10\n",
    ")\n",
    "plt.title(\"central\")\n",
    "\n",
    "\n",
    "plt.subplot(3, 2, 2)\n",
    "plt.imshow(first_frames_n[\"mirror-bottom\"], cmap=\"gray\")\n",
    "plt.scatter(\n",
    "    coordinates_views[\"mirror-bottom\"][:, 1],\n",
    "    coordinates_views[\"mirror-bottom\"][:, 0],\n",
    "    c=\"r\",\n",
    "    s=10,\n",
    ")\n",
    "plt.title(\"bottom\")\n",
    "\n",
    "\n",
    "plt.subplot(3, 2, 3)\n",
    "plt.imshow(first_frames_n[\"mirror-left\"], cmap=\"gray\")\n",
    "plt.scatter(\n",
    "    coordinates_views[\"mirror-left\"][:, 1],\n",
    "    coordinates_views[\"mirror-left\"][:, 0],\n",
    "    c=\"r\",\n",
    "    s=10,\n",
    ")\n",
    "plt.title(\"left\")\n",
    "\n",
    "plt.subplot(3, 2, 4)\n",
    "plt.imshow(first_frames_n[\"mirror-right\"], cmap=\"gray\")\n",
    "plt.scatter(\n",
    "    coordinates_views[\"mirror-right\"][:, 1],\n",
    "    coordinates_views[\"mirror-right\"][:, 0],\n",
    "    c=\"r\",\n",
    "    s=10,\n",
    ")\n",
    "plt.title(\"right\")\n",
    "\n",
    "plt.subplot(3, 2, 5)\n",
    "plt.imshow(first_frames_n[\"mirror-top\"], cmap=\"gray\")\n",
    "plt.scatter(\n",
    "    coordinates_views[\"mirror-top\"][:, 1],\n",
    "    coordinates_views[\"mirror-top\"][:, 0],\n",
    "    c=\"r\",\n",
    "    s=10,\n",
    ")\n",
    "plt.title(\"top\")\n",
    "\n",
    "plt.show()"
   ]
  },
  {
   "cell_type": "markdown",
   "metadata": {},
   "source": [
    "### plot triangulation arean"
   ]
  },
  {
   "cell_type": "code",
   "execution_count": 234,
   "metadata": {},
   "outputs": [],
   "source": [
    "coordinates_ars = {}\n",
    "for key, value in coordinates[\"points_coordinate\"].items():\n",
    "    coordinates_ars[key] = np.array(value)"
   ]
  },
  {
   "cell_type": "code",
   "execution_count": 235,
   "metadata": {},
   "outputs": [],
   "source": [
    "all_arr = list(coordinates[\"points_coordinate\"].values())\n",
    "concatenated_arr = [np.expand_dims(np.array(arr), 0) for arr in all_arr]\n",
    "right_arr = np.stack(concatenated_arr, axis=0)"
   ]
  },
  {
   "cell_type": "code",
   "execution_count": null,
   "metadata": {},
   "outputs": [],
   "source": [
    "all_triang1 = []\n",
    "for i in tqdm(range(8)):\n",
    "    all_triang1.append(\n",
    "        mcc.triangulate(right_arr[:, :, i, [1, 0]], all_extrinsics, all_intrinsics)\n",
    "    )\n",
    "all_triang1 = np.array(all_triang1)"
   ]
  },
  {
   "cell_type": "code",
   "execution_count": null,
   "metadata": {},
   "outputs": [],
   "source": [
    "all_triang1"
   ]
  },
  {
   "cell_type": "code",
   "execution_count": null,
   "metadata": {},
   "outputs": [],
   "source": [
    "data"
   ]
  },
  {
   "cell_type": "code",
   "execution_count": null,
   "metadata": {},
   "outputs": [],
   "source": []
  },
  {
   "cell_type": "code",
   "execution_count": 247,
   "metadata": {},
   "outputs": [],
   "source": [
    "data = all_triang1\n",
    "data_coordinates_arena = data.squeeze()"
   ]
  },
  {
   "cell_type": "code",
   "execution_count": null,
   "metadata": {},
   "outputs": [],
   "source": [
    "import plotly.express as px\n",
    "\n",
    "fig = px.scatter_3d(\n",
    "    x=data_coordinates_arena[:, 0],\n",
    "    y=data_coordinates_arena[:, 1],\n",
    "    z=data_coordinates_arena[:, 2],\n",
    "    text=range(8),\n",
    ")\n",
    "plt.axis(\"equal\")\n",
    "fig.show()"
   ]
  },
  {
   "cell_type": "code",
   "execution_count": null,
   "metadata": {},
   "outputs": [],
   "source": [
    "%matplotlib widget\n",
    "import matplotlib.pyplot as plt\n",
    "import numpy as np\n",
    "\n",
    "\n",
    "fig = plt.figure()\n",
    "ax = fig.add_subplot(projection=\"3d\")\n",
    "\n",
    "\n",
    "ax.scatter(\n",
    "    data_coordinates_arena[:, 0],\n",
    "    data_coordinates_arena[:, 1],\n",
    "    data_coordinates_arena[:, 2],\n",
    ")\n",
    "\n",
    "ax.set_xlabel(\"X Label\")\n",
    "ax.set_ylabel(\"Y Label\")\n",
    "ax.set_zlabel(\"Z Label\")\n",
    "plt.axis(\"equal\")\n",
    "plt.show()"
   ]
  },
  {
   "cell_type": "markdown",
   "metadata": {},
   "source": [
    "### Sanity Check"
   ]
  },
  {
   "cell_type": "code",
   "execution_count": 130,
   "metadata": {},
   "outputs": [],
   "source": [
    "# plot the same point over each  frame to check for consistency\n",
    "import pickle\n",
    "\n",
    "coord_path = r\"D:\\P05_3DRIG_YE-LP\\e01_mouse_hunting\\v04_mice-hunting\\20240803\\M4\\140337\\right_coords.pkl\"\n",
    "with open(coord_path, \"rb\") as f:\n",
    "    coordinates = pickle.load(f)"
   ]
  },
  {
   "cell_type": "code",
   "execution_count": 133,
   "metadata": {},
   "outputs": [],
   "source": [
    "ars = [value for value in coordinates.values()]\n",
    "uncropped_coordinates = np.stack(ars, axis=0)"
   ]
  },
  {
   "cell_type": "code",
   "execution_count": null,
   "metadata": {},
   "outputs": [],
   "source": [
    "uncropped_coordinates[:, 0, :]"
   ]
  },
  {
   "cell_type": "code",
   "execution_count": 136,
   "metadata": {},
   "outputs": [],
   "source": [
    "%gui qt5"
   ]
  },
  {
   "cell_type": "code",
   "execution_count": 141,
   "metadata": {},
   "outputs": [],
   "source": [
    "import napari\n",
    "from utils import read_first_frame\n",
    "\n",
    "path = r\"D:\\P05_3DRIG_YE-LP\\e01_mouse_hunting\\v04_mice-hunting\\20240803\\M4\\140337\\multicam_video_2024-08-03T14_32_11.avi\"\n",
    "frame = read_first_frame(path)\n",
    "\n",
    "\n",
    "def inspect_id(frame, i):\n",
    "    viewer = napari.Viewer()\n",
    "    viewer.add_image(frame, name=\"uncropped\", contrast_limits=[0, 255])\n",
    "\n",
    "    points_layer = viewer.add_points(\n",
    "        uncropped_coordinates[:, i, :],\n",
    "        size=10,\n",
    "        name=\"points\",\n",
    "        edge_color=\"white\",\n",
    "        edge_width=0.5,\n",
    "    )\n",
    "    points_layer.editable = True\n",
    "\n",
    "    napari.run()\n",
    "    adjusted_points = points_layer.data"
   ]
  },
  {
   "cell_type": "code",
   "execution_count": null,
   "metadata": {},
   "outputs": [],
   "source": [
    "for i in range(8):\n",
    "    inspect_id(frame, i)"
   ]
  },
  {
   "cell_type": "markdown",
   "metadata": {},
   "source": [
    "Here the identities of the points look fine (check only top bottom in central for left point)\n",
    "\n",
    "Next steps for calibration correction:\n",
    "\n",
    "- Check identity before cropping\n",
    "- Check identity after cropping again\n",
    "- Check if video for calibration are distorting the points\n",
    "\n",
    "- check expected cameras and stack array"
   ]
  },
  {
   "cell_type": "code",
   "execution_count": null,
   "metadata": {},
   "outputs": [],
   "source": []
  },
  {
   "cell_type": "markdown",
   "metadata": {},
   "source": []
  }
 ],
 "metadata": {
  "kernelspec": {
   "display_name": "lab-env",
   "language": "python",
   "name": "python3"
  },
  "language_info": {
   "codemirror_mode": {
    "name": "ipython",
    "version": 3
   },
   "file_extension": ".py",
   "mimetype": "text/x-python",
   "name": "python",
   "nbconvert_exporter": "python",
   "pygments_lexer": "ipython3",
   "version": "3.10.0"
  }
 },
 "nbformat": 4,
 "nbformat_minor": 4
}
