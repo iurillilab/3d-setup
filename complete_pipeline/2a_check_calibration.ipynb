{
 "cells": [
  {
   "cell_type": "code",
   "execution_count": null,
   "id": "86a29f7b",
   "metadata": {},
   "outputs": [],
   "source": [
    "# %matplotlib widget\n",
    "import argparse\n",
    "from pathlib import Path\n",
    "from typing import List\n",
    "from dataclasses import dataclass, asdict\n",
    "from datetime import datetime\n",
    "\n",
    "import matplotlib\n",
    "matplotlib.use('Agg')  # Configure backend before importing pyplot\n",
    "import matplotlib.pyplot as plt\n",
    "import numpy as np\n",
    "from threed_utils.multiview_calibration.detection import run_checkerboard_detection, detect_chessboard, plot_chessboard_qc_data, generate_chessboard_objpoints\n",
    "from threed_utils.multiview_calibration.calibration import calibrate, get_intrinsics\n",
    "from threed_utils.multiview_calibration.bundle_adjustment import bundle_adjust\n",
    "from threed_utils.multiview_calibration.viz import plot_residuals, plot_shared_detections\n",
    "from threed_utils.multiview_calibration.geometry import triangulate\n",
    "from tqdm import tqdm, trange\n",
    "import hickle\n",
    "from threed_utils.io import write_calibration_toml\n",
    "import cv2\n",
    "from pipeline_params import CalibrationOptions, DetectionOptions, DetectionRunnerOptions, ProcessingOptions\n",
    "from movement.io.load_poses import from_numpy\n",
    "import xarray as xr\n",
    "from threed_utils.detection_napari_check import view_movement_3d\n",
    "\n",
    "from threed_utils.anipose.movement_anipose import anipose_triangulate_ds\n",
    "from threed_utils.io import load_calibration\n",
    "from threed_utils.arena_utils import load_arena_multiview_ds\n"
   ]
  },
  {
   "cell_type": "code",
   "execution_count": null,
   "id": "be53649d",
   "metadata": {},
   "outputs": [],
   "source": [
    "# Run detection\n",
    "calibration_options = CalibrationOptions()\n",
    "detection_runner_options = DetectionRunnerOptions()\n",
    "detection_options = DetectionOptions()\n",
    "n_workers = 1\n",
    "folder = Path(\"/Users/vigji/Desktop/test_3d/Calibration/20250509/multicam_video_2025-05-09T09_56_51_cropped-v2_20250710121328\")\n",
    "\n",
    "\n",
    "all_calib_uvs, all_img_sizes, video_files_dict = run_checkerboard_detection(folder, \n",
    "                                                                        extension=detection_runner_options.video_extension, \n",
    "                                                                        overwrite=detection_runner_options.overwrite,\n",
    "                                                                        detection_options=asdict(detection_options),\n",
    "                                                                        n_workers=n_workers)\n",
    "\n",
    "camera_names = list(video_files_dict.keys())\n",
    "video_paths = list(video_files_dict.values())\n",
    "print(f\"Found cameras: {camera_names}\")\n",
    "\n",
    "\n",
    "def uvs_to_ds(all_calib_uvs, camera_names):\n",
    "    all_xarrs = []\n",
    "    for all_calib_pts in all_calib_uvs:\n",
    "        reshaped_for_mov = np.swapaxes(all_calib_pts, 1, 2)[:, :, :, None]\n",
    "        mov_xarr = from_numpy(reshaped_for_mov, individual_names=[\"calibrator\"], keypoint_names=np.arange(reshaped_for_mov.shape[2]),\n",
    "                            confidence_array=np.ones_like(reshaped_for_mov[:, 0, :, :]))\n",
    "        all_xarrs.append(mov_xarr)\n",
    "    new_coord_views = xr.DataArray(camera_names, dims=\"view\")\n",
    "    return xr.concat(all_xarrs, dim=new_coord_views)\n",
    "\n",
    "uvs_ds = uvs_to_ds(all_calib_uvs, camera_names)\n",
    "\n",
    "valid_uvs_ds_idxs = (~np.isnan(uvs_ds.position.values[:, :, 0, 0, 0])).sum(axis=0) > 1  #.sum(0) > 1\n",
    "valid_uvs_ds = uvs_ds.isel(time=valid_uvs_ds_idxs)"
   ]
  },
  {
   "cell_type": "code",
   "execution_count": null,
   "id": "7a255cdf",
   "metadata": {},
   "outputs": [],
   "source": [
    "arena_json = Path(\"/Users/vigji/Desktop/test_3d/multicam_video_2025-05-07T10_12_11_20250528-153946.json\")\n",
    "arena_ds = load_arena_multiview_ds(arena_json)\n"
   ]
  },
  {
   "cell_type": "code",
   "execution_count": null,
   "id": "f89080ed",
   "metadata": {},
   "outputs": [],
   "source": [
    "calib_dir = folder \n",
    "calib_dir.exists()\n",
    "\n",
    "all_calibvals = load_calibration(calib_dir)"
   ]
  },
  {
   "cell_type": "code",
   "execution_count": null,
   "id": "29c63830",
   "metadata": {},
   "outputs": [],
   "source": [
    "calib_toml = folder / \"mc_calibration_output_20250710-152443\" / \"calibration_from_mc.toml\"\n",
    "assert calib_toml.exists()\n",
    "triang_config_optim = {\n",
    "    \"ransac\": True,\n",
    "    \"optim\": False,}\n",
    "checkerboard_triang_ds = anipose_triangulate_ds(views_ds=valid_uvs_ds, calib_toml_path=calib_toml, **triang_config_optim)\n",
    "# stack arena_ds over time \n",
    "arena_triang_ds = anipose_triangulate_ds(views_ds=arena_ds, calib_toml_path=calib_toml, **triang_config_optim)\n",
    "arena_triang_ds = xr.concat([arena_triang_ds,]*len(valid_uvs_ds.coords[\"time\"]), dim=\"time\")"
   ]
  },
  {
   "cell_type": "code",
   "execution_count": null,
   "id": "e6853be1",
   "metadata": {},
   "outputs": [],
   "source": [
    "viewer = napari.Viewer()\n",
    "view_movement_3d(checkerboard_triang_ds, viewer=viewer)\n",
    "view_movement_3d(arena_triang_ds, viewer=viewer)"
   ]
  },
  {
   "cell_type": "code",
   "execution_count": null,
   "id": "2f1fc135",
   "metadata": {},
   "outputs": [],
   "source": []
  }
 ],
 "metadata": {
  "kernelspec": {
   "display_name": "movement-env",
   "language": "python",
   "name": "python3"
  },
  "language_info": {
   "codemirror_mode": {
    "name": "ipython",
    "version": 3
   },
   "file_extension": ".py",
   "mimetype": "text/x-python",
   "name": "python",
   "nbconvert_exporter": "python",
   "pygments_lexer": "ipython3",
   "version": "3.12.0"
  }
 },
 "nbformat": 4,
 "nbformat_minor": 5
}
