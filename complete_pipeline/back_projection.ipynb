{
 "cells": [
  {
   "cell_type": "markdown",
   "metadata": {},
   "source": [
    "## Backprojetion from triangulation"
   ]
  },
  {
   "cell_type": "code",
   "execution_count": 1,
   "metadata": {},
   "outputs": [],
   "source": [
    "# import necessary modules\n",
    "%matplotlib widget\n",
    "import matplotlib.pyplot as plt\n",
    "import numpy as np\n",
    "\n",
    "import multicam_calibration as mcc\n",
    "from pathlib import Path\n",
    "from matplotlib import pyplot as plt\n",
    "import numpy as np\n",
    "from mpl_toolkits.mplot3d import Axes3D\n",
    "from tqdm import tqdm\n",
    "import plotly.express as px\n",
    "import pickle"
   ]
  },
  {
   "cell_type": "code",
   "execution_count": 3,
   "metadata": {},
   "outputs": [],
   "source": [
    "from threed_utils.visualization import plot_triangulations, plot_back_projections\n",
    "from threed_utils.old_triangulation import back_project_points\n",
    "from utils import read_first_frame"
   ]
  },
  {
   "cell_type": "markdown",
   "metadata": {},
   "source": [
    "### get triangulation from predictions: mcc, anipose"
   ]
  },
  {
   "cell_type": "code",
   "execution_count": 4,
   "metadata": {},
   "outputs": [],
   "source": [
    "# get data from one session:\n",
    "from pathlib import Path\n",
    "dir_path = Path(r\"D:\\P05_3DRIG_YE-LP\\e01_mouse_hunting\\v04_mice-hunting\\20240724\\100455\\multicam_video_2024-07-24T10_20_07_cropped_20241209165236\")\n",
    "calibration_path = Path(r\"D:\\P05_3DRIG_YE-LP\\e01_mouse_hunting\\v04_mice-hunting\\20240724\\calibration\\multicam_video_2024-07-24T14_13_45_cropped_20241209165236\")"
   ]
  },
  {
   "cell_type": "code",
   "execution_count": null,
   "metadata": {},
   "outputs": [],
   "source": [
    "# get calibration data from 2_calibration_multicam_script.py on calibration_path (just change path inside) []\n",
    "\n",
    "# store calibration data for backprojection\n",
    "\n",
    "\n",
    "# use calibration data on 3_triangulation_mcc_anipose_script.py to obtain triangulation data for both\n",
    "\n",
    "\n",
    "# plot data in 3d with the function\n",
    "\n",
    "\n",
    "# modify backprojection to work with xarrays \n",
    "\n",
    "# once backprojection works, create function with plotting\n",
    "\n",
    "\n",
    "# unify the two into a single script\n",
    "\n",
    "\n",
    "# Resources: videos, calibration matrices, triangulation data\n",
    "\n"
   ]
  }
 ],
 "metadata": {
  "kernelspec": {
   "display_name": "lab-env",
   "language": "python",
   "name": "python3"
  },
  "language_info": {
   "codemirror_mode": {
    "name": "ipython",
    "version": 3
   },
   "file_extension": ".py",
   "mimetype": "text/x-python",
   "name": "python",
   "nbconvert_exporter": "python",
   "pygments_lexer": "ipython3",
   "version": "3.10.13"
  }
 },
 "nbformat": 4,
 "nbformat_minor": 2
}
