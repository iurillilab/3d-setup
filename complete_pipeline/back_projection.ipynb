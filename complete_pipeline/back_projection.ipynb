{
 "cells": [
  {
   "cell_type": "markdown",
   "metadata": {},
   "source": [
    "## Backprojetion from triangulation"
   ]
  },
  {
   "cell_type": "code",
   "execution_count": 1,
   "metadata": {},
   "outputs": [],
   "source": [
    "# import necessary modules\n",
    "import matplotlib.pyplot as plt\n",
    "import numpy as np\n",
    "\n",
    "import multicam_calibration as mcc\n",
    "from pathlib import Path\n",
    "from matplotlib import pyplot as plt\n",
    "import numpy as np\n",
    "from mpl_toolkits.mplot3d import Axes3D\n",
    "from tqdm import tqdm\n",
    "import plotly.express as px\n",
    "import pickle"
   ]
  },
  {
   "cell_type": "code",
   "execution_count": 2,
   "metadata": {},
   "outputs": [],
   "source": [
    "from threed_utils.visualization import plot_triangulations, plot_back_projections\n",
    "from threed_utils.old_triangulation import back_project_points\n",
    "from utils import read_first_frame"
   ]
  },
  {
   "cell_type": "markdown",
   "metadata": {},
   "source": [
    "### get triangulation from predictions: mcc, anipose"
   ]
  },
  {
   "cell_type": "code",
   "execution_count": 4,
   "metadata": {},
   "outputs": [],
   "source": [
    "# get data from one session:\n",
    "from pathlib import Path\n",
    "dir_path = Path(r\"D:\\P05_3DRIG_YE-LP\\e01_mouse_hunting\\v04_mice-hunting\\20240724\\100455\\multicam_video_2024-07-24T10_20_07_cropped_20241209165236\")\n",
    "calibration_path = Path(r\"D:\\P05_3DRIG_YE-LP\\e01_mouse_hunting\\v04_mice-hunting\\20240724\\calibration\\multicam_video_2024-07-24T14_13_45_cropped_20241209165236\")"
   ]
  },
  {
   "cell_type": "markdown",
   "metadata": {},
   "source": [
    "### Get calibration matrices"
   ]
  },
  {
   "cell_type": "code",
   "execution_count": 3,
   "metadata": {},
   "outputs": [],
   "source": [
    "data_dir = Path('/Users/thomasbush/Documents/Vault/Iurilli_lab/3d_tracking/data/calibration')"
   ]
  },
  {
   "cell_type": "code",
   "execution_count": 4,
   "metadata": {},
   "outputs": [],
   "source": [
    "# get the matrices:\n",
    "\n",
    "from threed_utils.io import movement_ds_from_anipose_triangulation_df, read_calibration_toml\n"
   ]
  },
  {
   "cell_type": "code",
   "execution_count": 5,
   "metadata": {},
   "outputs": [
    {
     "name": "stdout",
     "output_type": "stream",
     "text": [
      "/Users/thomasbush/Documents/Vault/Iurilli_lab/3d_tracking/data/calibration/mc_calibration_output_20241210-164414/calibration_from_mc.toml\n"
     ]
    }
   ],
   "source": [
    "calibration_paths = sorted(data_dir.glob(\"mc_calibration_output_*\"))\n",
    "last_calibration_path = calibration_paths[-1]\n",
    "\n",
    "all_calib_uvs = np.load(last_calibration_path / \"all_calib_uvs.npy\")\n",
    "calib_toml_path = last_calibration_path / \"calibration_from_mc.toml\"\n",
    "print(calib_toml_path)\n",
    "cam_names, img_sizes, extrinsics, intrinsics = read_calibration_toml(calib_toml_path)"
   ]
  },
  {
   "cell_type": "code",
   "execution_count": 6,
   "metadata": {},
   "outputs": [],
   "source": [
    "# get triangulated points from both: \n",
    "import xarray as xr\n",
    "\n",
    "slp_dir = Path('/Users/thomasbush/Documents/Vault/Iurilli_lab/3d_tracking/data/video_test')\n",
    "\n",
    "triangulation_path = slp_dir / 'anipose_triangulated_ds.h5'\n",
    "mcc_path = slp_dir / 'mcc_triangulated_ds.h5'\n",
    "anipose_ds = xr.open_dataset(triangulation_path)\n",
    "mcc_ds = xr.open_dataset(mcc_path)\n"
   ]
  },
  {
   "cell_type": "code",
   "execution_count": 8,
   "metadata": {},
   "outputs": [],
   "source": [
    "arena_path = '/Users/thomasbush/Documents/Vault/Iurilli_lab/3d_tracking/3d-setup/tests/assets/arena_tracked_points.pkl'\n",
    "with open(arena_path, 'rb') as f:\n",
    "    arena_points = pickle.load(f)"
   ]
  },
  {
   "cell_type": "code",
   "execution_count": null,
   "metadata": {},
   "outputs": [],
   "source": [
    "# get calibration data from 2_calibration_multicam_script.py on calibration_path (just change path inside) [DONE]\n",
    "\n",
    "# store calibration data for backprojection[DONE]\n",
    "\n",
    "\n",
    "# use calibration data on 3_triangulation_mcc_anipose_script.py to obtain triangulation data for both [DONE]\n",
    "\n",
    "\n",
    "# modify backprojection to work with xarrays \n",
    "\n",
    "# once backprojection works, create function with plotting\n",
    "\n",
    "\n",
    "# unify the two into a single script\n",
    "\n",
    "\n",
    "# Resources: videos, calibration matrices, triangulation data\n",
    "\n"
   ]
  },
  {
   "cell_type": "markdown",
   "metadata": {},
   "source": [
    "## Backprojection of triangulated points:"
   ]
  },
  {
   "cell_type": "markdown",
   "metadata": {},
   "source": [
    "def backproject_triangulated_points(xarray_ds, extrinsics, intrinsics, frame_n):\n",
    "\n",
    "\n"
   ]
  }
 ],
 "metadata": {
  "kernelspec": {
   "display_name": "lab-env",
   "language": "python",
   "name": "python3"
  },
  "language_info": {
   "codemirror_mode": {
    "name": "ipython",
    "version": 3
   },
   "file_extension": ".py",
   "mimetype": "text/x-python",
   "name": "python",
   "nbconvert_exporter": "python",
   "pygments_lexer": "ipython3",
   "version": "3.11.10"
  }
 },
 "nbformat": 4,
 "nbformat_minor": 2
}
