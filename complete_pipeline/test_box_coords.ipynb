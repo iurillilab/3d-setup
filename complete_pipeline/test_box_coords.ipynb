{
 "cells": [
  {
   "cell_type": "code",
   "execution_count": 4,
   "metadata": {},
   "outputs": [],
   "source": [
    "import multicam_calibration as mcc\n",
    "from pathlib import Path\n",
    "from matplotlib import pyplot as plt\n",
    "import numpy as np\n",
    "%matplotlib widget"
   ]
  },
  {
   "cell_type": "code",
   "execution_count": null,
   "metadata": {},
   "outputs": [],
   "source": []
  },
  {
   "cell_type": "code",
   "execution_count": 2,
   "metadata": {},
   "outputs": [
    {
     "ename": "NameError",
     "evalue": "name 'board_shape' is not defined",
     "output_type": "error",
     "traceback": [
      "\u001b[0;31m---------------------------------------------------------------------------\u001b[0m",
      "\u001b[0;31mNameError\u001b[0m                                 Traceback (most recent call last)",
      "Cell \u001b[0;32mIn[2], line 1\u001b[0m\n\u001b[0;32m----> 1\u001b[0m calib_objpoints \u001b[38;5;241m=\u001b[39m mcc\u001b[38;5;241m.\u001b[39mgenerate_chessboard_objpoints(\u001b[43mboard_shape\u001b[49m, square_size)\n\u001b[1;32m      2\u001b[0m s \u001b[38;5;241m=\u001b[39m \u001b[38;5;28mslice\u001b[39m(\u001b[38;5;28;01mNone\u001b[39;00m, \u001b[38;5;28;01mNone\u001b[39;00m)\n\u001b[1;32m      4\u001b[0m all_extrinsics, all_intrinsics, calib_poses, spanning_tree \u001b[38;5;241m=\u001b[39m mcc\u001b[38;5;241m.\u001b[39mcalibrate(\n\u001b[1;32m      5\u001b[0m     all_calib_uvs[:, s, :, :], all_img_sizes, calib_objpoints, root\u001b[38;5;241m=\u001b[39m\u001b[38;5;241m0\u001b[39m, n_samples_for_intrinsics\u001b[38;5;241m=\u001b[39m\u001b[38;5;241m100\u001b[39m)\n",
      "\u001b[0;31mNameError\u001b[0m: name 'board_shape' is not defined"
     ]
    }
   ],
   "source": [
    "board_shape = (5,7)\n",
    "square_size = 12.5\n",
    "\n",
    "calib_objpoints = mcc.generate_chessboard_objpoints(board_shape, square_size)\n",
    "s = slice(None, None)\n",
    "\n",
    "all_extrinsics, all_intrinsics, calib_poses, spanning_tree = mcc.calibrate(\n",
    "    all_calib_uvs[:, s, :, :], all_img_sizes, calib_objpoints, root=0, n_samples_for_intrinsics=100)\n",
    "fig.savefig(data_dir / \"shared_detections.png\")"
   ]
  },
  {
   "cell_type": "code",
   "execution_count": null,
   "metadata": {},
   "outputs": [],
   "source": [
    "fig, shared_detections = mcc.plot_shared_detections(all_calib_uvs, spanning_tree)"
   ]
  },
  {
   "cell_type": "code",
   "execution_count": null,
   "metadata": {},
   "outputs": [],
   "source": [
    "import tqdm\n",
    "import cv2\n",
    "n_cameras, n_frames, N, _ = all_calib_uvs.shape\n",
    "median_error = np.zeros(n_cameras)\n",
    "reprojections = np.zeros((n_cameras, n_frames, N, 2))\n",
    "transformed_reprojections = np.zeros((n_cameras, n_frames, N, 2)) * np.nan\n",
    "pts = mcc.embed_calib_objpoints(calib_objpoints, calib_poses)\n",
    "\n",
    "errors_list = []\n",
    "for cam in tqdm.trange(n_cameras):\n",
    "    reprojections[cam] = mcc.project_points(\n",
    "        pts, all_extrinsics[cam], all_intrinsics[cam][0]\n",
    "    )\n",
    "    uvs_undistorted = mcc.undistort_points(all_calib_uvs[cam], *all_intrinsics[cam])\n",
    "    valid_ixs = np.nonzero(~np.isnan(uvs_undistorted).any((-1, -2)))[0]\n",
    "    for t in valid_ixs:\n",
    "        H = cv2.findHomography(uvs_undistorted[t], calib_objpoints[:, :2])\n",
    "        transformed_reprojections[cam, t] = cv2.perspectiveTransform(\n",
    "            reprojections[cam, t][np.newaxis], H[0]\n",
    "        )[0]\n",
    "\n",
    "    errors = np.linalg.norm(\n",
    "        transformed_reprojections[cam, valid_ixs] - calib_objpoints[:, :2],\n",
    "        axis=-1,\n",
    "    )\n",
    "    median_error[cam] = np.median(errors)\n",
    "    errors_arr = np.zeros(n_frames)*np.nan\n",
    "    errors_arr[valid_ixs] = np.median(errors, axis=1)\n",
    "    errors_list.append(errors_arr)"
   ]
  },
  {
   "cell_type": "code",
   "execution_count": null,
   "metadata": {},
   "outputs": [],
   "source": [
    "f, axs = plt.subplots(len(errors_list), 1, figsize=(10, 4), sharex=True, sharey=True)\n",
    "\n",
    "for i, errors in enumerate(errors_list):\n",
    "    axs[i].plot(errors + i*20, c=f\"C{i}\")\n",
    "# plt.plot(errors_list[0].mean(1))"
   ]
  },
  {
   "cell_type": "code",
   "execution_count": null,
   "metadata": {},
   "outputs": [],
   "source": [
    "s = slice(0, None)\n",
    "fig, median_error, reprojections, transformed_reprojections = mcc.plot_residuals(\n",
    "    all_calib_uvs[:, s, :, :], all_extrinsics, all_intrinsics, calib_objpoints, calib_poses[s, :], \n",
    "    cam_names=camera_names,\n",
    "    inches_per_axis=3)\n",
    "fig.savefig(data_dir / \"first_residuals.png\")"
   ]
  },
  {
   "cell_type": "code",
   "execution_count": null,
   "metadata": {},
   "outputs": [],
   "source": [
    "adj_extrinsics, adj_intrinsics, adj_calib_poses, use_frames, result = \\\n",
    "    mcc.bundle_adjust(all_calib_uvs, all_extrinsics, all_intrinsics, calib_objpoints, calib_poses, n_frames=None, ftol=1e-4)"
   ]
  },
  {
   "cell_type": "code",
   "execution_count": 3,
   "metadata": {},
   "outputs": [
    {
     "ename": "NameError",
     "evalue": "name 'all_calib_uvs' is not defined",
     "output_type": "error",
     "traceback": [
      "\u001b[0;31m---------------------------------------------------------------------------\u001b[0m",
      "\u001b[0;31mNameError\u001b[0m                                 Traceback (most recent call last)",
      "Cell \u001b[0;32mIn[3], line 2\u001b[0m\n\u001b[1;32m      1\u001b[0m fig, median_error, reprojections, transformed_reprojections \u001b[38;5;241m=\u001b[39m mcc\u001b[38;5;241m.\u001b[39mplot_residuals(\n\u001b[0;32m----> 2\u001b[0m     \u001b[43mall_calib_uvs\u001b[49m[:,use_frames], adj_extrinsics, adj_intrinsics, calib_objpoints, adj_calib_poses, inches_per_axis\u001b[38;5;241m=\u001b[39m\u001b[38;5;241m3\u001b[39m)\n\u001b[1;32m      3\u001b[0m fig\u001b[38;5;241m.\u001b[39msavefig(data_dir \u001b[38;5;241m/\u001b[39m \u001b[38;5;124m\"\u001b[39m\u001b[38;5;124mrefined_residuals.png\u001b[39m\u001b[38;5;124m\"\u001b[39m)\n",
      "\u001b[0;31mNameError\u001b[0m: name 'all_calib_uvs' is not defined"
     ]
    }
   ],
   "source": [
    "fig, median_error, reprojections, transformed_reprojections = mcc.plot_residuals(\n",
    "    all_calib_uvs[:,use_frames], adj_extrinsics, adj_intrinsics, calib_objpoints, adj_calib_poses, inches_per_axis=3)\n",
    "fig.savefig(data_dir / \"refined_residuals.png\")"
   ]
  },
  {
   "cell_type": "code",
   "execution_count": null,
   "metadata": {},
   "outputs": [],
   "source": [
    "adj_extrinsics, adj_intrinsics, adj_calib_poses, use_frames, result = \\\n",
    "    mcc.bundle_adjust(all_calib_uvs, adj_calib_poses, adj_intrinsics, calib_objpoints, adj_calib_poses, n_frames=5000, ftol=1e-4)\n"
   ]
  }
 ],
 "metadata": {
  "kernelspec": {
   "display_name": "lab-env",
   "language": "python",
   "name": "python3"
  },
  "language_info": {
   "codemirror_mode": {
    "name": "ipython",
    "version": 3
   },
   "file_extension": ".py",
   "mimetype": "text/x-python",
   "name": "python",
   "nbconvert_exporter": "python",
   "pygments_lexer": "ipython3",
   "version": "3.10.0"
  }
 },
 "nbformat": 4,
 "nbformat_minor": 2
}
